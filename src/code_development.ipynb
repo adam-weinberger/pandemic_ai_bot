{
 "cells": [
  {
   "cell_type": "code",
   "execution_count": 2,
   "metadata": {
    "ExecuteTime": {
     "end_time": "2020-08-03T22:45:46.790136Z",
     "start_time": "2020-08-03T22:45:46.786235Z"
    }
   },
   "outputs": [],
   "source": [
    "from game_env import GameEnv\n",
    "import constants\n",
    "from bot_game import BotGame\n",
    "import pandas as pd\n",
    "import numpy as np\n",
    "from gym import spaces\n",
    "import gym\n",
    "from collections import Counter"
   ]
  },
  {
   "cell_type": "code",
   "execution_count": 3,
   "metadata": {
    "ExecuteTime": {
     "end_time": "2020-08-03T22:45:47.710855Z",
     "start_time": "2020-08-03T22:45:47.697068Z"
    }
   },
   "outputs": [],
   "source": [
    "env = gym.make('CartPole-v1')"
   ]
  },
  {
   "cell_type": "code",
   "execution_count": 4,
   "metadata": {
    "ExecuteTime": {
     "end_time": "2020-08-03T22:45:49.745437Z",
     "start_time": "2020-08-03T22:45:49.733799Z"
    }
   },
   "outputs": [
    {
     "data": {
      "text/plain": [
       "Box(4,)"
      ]
     },
     "execution_count": 4,
     "metadata": {},
     "output_type": "execute_result"
    }
   ],
   "source": [
    "env.observation_space"
   ]
  },
  {
   "cell_type": "code",
   "execution_count": 5,
   "metadata": {
    "ExecuteTime": {
     "end_time": "2020-08-03T22:45:51.882807Z",
     "start_time": "2020-08-03T22:45:51.875524Z"
    }
   },
   "outputs": [
    {
     "data": {
      "text/plain": [
       "array([ 0.04425034, -0.00019404, -0.03799084,  0.0214096 ])"
      ]
     },
     "execution_count": 5,
     "metadata": {},
     "output_type": "execute_result"
    }
   ],
   "source": [
    "env.reset()"
   ]
  },
  {
   "cell_type": "code",
   "execution_count": null,
   "metadata": {
    "ExecuteTime": {
     "start_time": "2020-08-03T22:45:51.202Z"
    },
    "scrolled": true
   },
   "outputs": [],
   "source": [
    "my_game = BotGame(2, 4)"
   ]
  },
  {
   "cell_type": "code",
   "execution_count": null,
   "metadata": {
    "ExecuteTime": {
     "start_time": "2020-08-03T22:45:52.411Z"
    },
    "scrolled": true
   },
   "outputs": [],
   "source": [
    "observation, reward = my_game.game_state_reward()"
   ]
  },
  {
   "cell_type": "code",
   "execution_count": null,
   "metadata": {
    "ExecuteTime": {
     "start_time": "2020-08-03T22:45:53.537Z"
    },
    "scrolled": true
   },
   "outputs": [],
   "source": [
    "len(observation)"
   ]
  },
  {
   "cell_type": "code",
   "execution_count": null,
   "metadata": {
    "ExecuteTime": {
     "start_time": "2020-08-03T22:45:54.570Z"
    },
    "scrolled": false
   },
   "outputs": [],
   "source": [
    "observation_reset = my_game.reset()\n",
    "len(observation_reset)"
   ]
  },
  {
   "cell_type": "code",
   "execution_count": null,
   "metadata": {
    "ExecuteTime": {
     "end_time": "2020-08-03T22:45:24.105984Z",
     "start_time": "2020-08-03T22:45:16.641Z"
    }
   },
   "outputs": [],
   "source": [
    "list(observation_reset.keys())"
   ]
  },
  {
   "cell_type": "code",
   "execution_count": null,
   "metadata": {
    "ExecuteTime": {
     "end_time": "2020-08-03T22:45:24.108440Z",
     "start_time": "2020-08-03T22:45:16.658Z"
    }
   },
   "outputs": [],
   "source": [
    "obs_space = my_game.create_observation_space()"
   ]
  },
  {
   "cell_type": "code",
   "execution_count": null,
   "metadata": {
    "ExecuteTime": {
     "end_time": "2020-08-03T22:45:24.111119Z",
     "start_time": "2020-08-03T22:45:16.675Z"
    }
   },
   "outputs": [],
   "source": [
    "len(obs_space.spaces)"
   ]
  },
  {
   "cell_type": "code",
   "execution_count": null,
   "metadata": {
    "ExecuteTime": {
     "end_time": "2020-08-03T22:45:24.116639Z",
     "start_time": "2020-08-03T22:45:16.693Z"
    }
   },
   "outputs": [],
   "source": [
    "list(obs_space.spaces.keys())"
   ]
  },
  {
   "cell_type": "code",
   "execution_count": null,
   "metadata": {
    "ExecuteTime": {
     "end_time": "2020-08-03T22:45:24.122398Z",
     "start_time": "2020-08-03T22:45:16.713Z"
    }
   },
   "outputs": [],
   "source": [
    "list(zip(list(obs_space.spaces.keys()), list(observation_reset.keys())))"
   ]
  },
  {
   "cell_type": "code",
   "execution_count": null,
   "metadata": {
    "ExecuteTime": {
     "end_time": "2020-08-03T22:45:24.124509Z",
     "start_time": "2020-08-03T22:45:16.730Z"
    }
   },
   "outputs": [],
   "source": [
    "my_game.create_observation_space()"
   ]
  },
  {
   "cell_type": "code",
   "execution_count": null,
   "metadata": {
    "ExecuteTime": {
     "end_time": "2020-08-03T22:45:24.126600Z",
     "start_time": "2020-08-03T22:45:16.745Z"
    }
   },
   "outputs": [],
   "source": [
    "# str(my_game.current_player.current_city)\n",
    "start_city = my_game.city_dict['chennai']\n",
    "str(start_city)"
   ]
  },
  {
   "cell_type": "code",
   "execution_count": null,
   "metadata": {
    "ExecuteTime": {
     "end_time": "2020-08-03T22:45:24.128592Z",
     "start_time": "2020-08-03T22:45:16.763Z"
    }
   },
   "outputs": [],
   "source": [
    "[str(x) for x in my_game.current_player.cards()]"
   ]
  },
  {
   "cell_type": "code",
   "execution_count": null,
   "metadata": {
    "ExecuteTime": {
     "end_time": "2020-08-03T22:45:24.130733Z",
     "start_time": "2020-08-03T22:45:16.777Z"
    },
    "scrolled": true
   },
   "outputs": [],
   "source": [
    "city_dist = my_game.shortest_paths(start_city)"
   ]
  },
  {
   "cell_type": "code",
   "execution_count": null,
   "metadata": {
    "ExecuteTime": {
     "end_time": "2020-08-03T22:45:24.132914Z",
     "start_time": "2020-08-03T22:45:16.795Z"
    },
    "scrolled": true
   },
   "outputs": [],
   "source": [
    "city_dist"
   ]
  },
  {
   "cell_type": "code",
   "execution_count": null,
   "metadata": {
    "ExecuteTime": {
     "end_time": "2020-08-03T22:45:24.135012Z",
     "start_time": "2020-08-03T22:45:16.810Z"
    }
   },
   "outputs": [],
   "source": [
    "max([*city_dist.values()])"
   ]
  },
  {
   "cell_type": "code",
   "execution_count": null,
   "metadata": {
    "ExecuteTime": {
     "end_time": "2020-08-03T22:45:24.137179Z",
     "start_time": "2020-08-03T22:45:16.826Z"
    }
   },
   "outputs": [],
   "source": [
    "new_reward_level = 0\n",
    "color_rewards = [0, 0, 5, 10, 15, 20] + [20] * (constants.HAND_SIZE_LIMIT - 5)\n",
    "for player in [*my_game.player_dict.values()]:\n",
    "    card_colors = [card.color for card in player.player_hand.hand]\n",
    "    card_colors = Counter(card_colors)\n",
    "    print(card_colors.values())\n",
    "    new_reward_level += sum([color_rewards[count] for count in card_colors.values()])\n",
    "new_reward_level"
   ]
  },
  {
   "cell_type": "code",
   "execution_count": null,
   "metadata": {
    "ExecuteTime": {
     "end_time": "2020-08-03T22:45:24.139303Z",
     "start_time": "2020-08-03T22:45:16.842Z"
    }
   },
   "outputs": [],
   "source": [
    "a = [1,2,3,4]\n",
    "a[:-1]"
   ]
  },
  {
   "cell_type": "code",
   "execution_count": null,
   "metadata": {
    "ExecuteTime": {
     "end_time": "2020-08-03T22:45:24.141143Z",
     "start_time": "2020-08-03T22:45:16.857Z"
    }
   },
   "outputs": [],
   "source": [
    "a = np.empty((3,2), dtype=object)"
   ]
  },
  {
   "cell_type": "code",
   "execution_count": null,
   "metadata": {
    "ExecuteTime": {
     "end_time": "2020-08-03T22:45:24.143050Z",
     "start_time": "2020-08-03T22:45:16.874Z"
    }
   },
   "outputs": [],
   "source": [
    "a[2,0] = start_cty"
   ]
  },
  {
   "cell_type": "code",
   "execution_count": null,
   "metadata": {
    "ExecuteTime": {
     "end_time": "2020-08-03T22:45:24.145007Z",
     "start_time": "2020-08-03T22:45:16.888Z"
    }
   },
   "outputs": [],
   "source": [
    "a"
   ]
  },
  {
   "cell_type": "code",
   "execution_count": 9,
   "metadata": {
    "ExecuteTime": {
     "end_time": "2020-08-04T14:01:38.026177Z",
     "start_time": "2020-08-04T14:01:38.001364Z"
    },
    "scrolled": true
   },
   "outputs": [
    {
     "name": "stdout",
     "output_type": "stream",
     "text": [
      "actions\n",
      "20000\n",
      "[[ 1.9979553 ]\n",
      " [ 1.9569684 ]\n",
      " [ 1.191274  ]\n",
      " ...\n",
      " [-0.4524516 ]\n",
      " [-0.45245433]\n",
      " [-0.45245484]]\n",
      "obs\n",
      "20000\n",
      "[[ 9.9722856e-01  7.4399039e-02 -8.9499897e-01]\n",
      " [ 9.9887246e-01  4.7474675e-02 -5.3950638e-01]\n",
      " [ 9.9931651e-01  3.6966346e-02 -2.1035510e-01]\n",
      " ...\n",
      " [ 9.9589729e-01  9.0490736e-02 -1.7677716e-07]\n",
      " [ 9.9589729e-01  9.0490736e-02  1.3501312e-07]\n",
      " [ 9.9589729e-01  9.0490744e-02  4.0573592e-08]]\n",
      "rewards\n",
      "20000\n",
      "[-0.0896396  -0.03519198 -0.00721119 ... -0.00841573 -0.00841574\n",
      " -0.00841574]\n",
      "episode_returns\n",
      "100\n",
      "[-1.67989636e+00 -2.34948650e+02 -1.21171991e+02 -1.20521779e+02\n",
      " -1.19788683e+02 -1.22824949e+02 -1.18820483e+02 -1.18580149e+02\n",
      " -1.24781061e+02 -1.15759465e+02 -2.21630026e+02 -1.17066681e+02\n",
      " -1.15420523e+02 -2.35858447e+02 -1.21483178e+02 -2.26669387e+02\n",
      " -1.20018324e+02 -2.55397097e+00 -1.21544349e+02 -1.23187212e+02\n",
      " -1.17826321e+02 -1.20175512e+02 -1.20939559e+02 -2.25162842e+02\n",
      " -1.22160798e+02 -3.17475876e+02 -1.20159795e+02 -1.15017261e+02\n",
      " -1.19739268e+02 -2.25243200e+02 -1.18202332e+02 -1.22542430e+02\n",
      " -1.24742531e+02 -2.30596983e+02 -3.56509622e+02 -3.42848445e+02\n",
      " -2.23538959e+02 -1.22457821e+02 -1.15651597e+02 -1.19399960e+02\n",
      " -1.91629645e+00 -1.20131865e+02 -3.40948904e+02 -1.97148161e+00\n",
      " -1.21485812e+02 -2.69614676e+02 -2.81389981e+02 -2.30449593e+00\n",
      " -1.21143120e+02 -1.20092023e+02 -2.36306912e+02 -3.15002931e+02\n",
      " -1.66385159e+00 -2.72799886e+02 -3.44566337e-01 -1.20000923e+02\n",
      " -1.23873693e+02 -2.26062617e+02 -1.17704868e+02 -3.32650224e+02\n",
      " -2.50870752e+00 -1.23369310e+02 -1.23362304e+02 -1.23084493e+02\n",
      " -2.38437248e+02 -2.88151933e+02 -1.23057380e+02 -1.20137265e+02\n",
      " -1.19208857e+02 -1.15206947e+02 -1.23775566e+02 -1.22223632e+02\n",
      " -1.18491417e+02 -3.29412749e+02 -1.16960918e+02 -3.11299582e+02\n",
      " -1.22122455e+02 -1.15868255e+02 -2.31333550e+02 -2.39784511e+02\n",
      " -1.17961876e+02 -1.59929356e+00 -2.21657830e+02 -1.21529624e+02\n",
      " -1.49148546e+00 -1.21636974e+02 -1.16444173e+02 -2.24936964e+02\n",
      " -2.32381570e+02 -3.18036108e+02 -1.19400891e+02 -1.25042679e+02\n",
      " -1.25096329e+02 -1.17114893e+02 -1.19740144e+02 -4.31367685e+00\n",
      " -1.19630688e+02 -1.21225952e+02 -1.17650637e+02 -1.20481836e+02]\n",
      "episode_starts\n",
      "20000\n",
      "[ True False False ... False False False]\n"
     ]
    }
   ],
   "source": [
    "from numpy import load\n",
    "\n",
    "data = load('expert_pendulum.npz')\n",
    "lst = data.files\n",
    "for item in lst:\n",
    "    print(item)\n",
    "    print(len(data[item]))\n",
    "    print(data[item])"
   ]
  },
  {
   "cell_type": "code",
   "execution_count": 30,
   "metadata": {
    "ExecuteTime": {
     "end_time": "2020-08-04T22:55:21.416831Z",
     "start_time": "2020-08-04T22:55:21.396068Z"
    }
   },
   "outputs": [
    {
     "name": "stdout",
     "output_type": "stream",
     "text": [
      "actions\n",
      "160\n",
      "[[  0]\n",
      " [ 11]\n",
      " [  5]\n",
      " [109]\n",
      " [  5]\n",
      " [109]\n",
      " [  0]\n",
      " [ 12]\n",
      " [  0]\n",
      " [ 11]\n",
      " [  0]\n",
      " [ 10]\n",
      " [  0]\n",
      " [ 56]\n",
      " [  0]\n",
      " [ 57]\n",
      " [  5]\n",
      " [109]\n",
      " [  0]\n",
      " [ 13]\n",
      " [  0]\n",
      " [ 17]\n",
      " [  5]\n",
      " [109]\n",
      " [  5]\n",
      " [110]\n",
      " [  5]\n",
      " [110]\n",
      " [  5]\n",
      " [110]\n",
      " [  0]\n",
      " [ 53]\n",
      " [  5]\n",
      " [109]\n",
      " [  5]\n",
      " [109]\n",
      " [  0]\n",
      " [ 28]\n",
      " [  0]\n",
      " [ 25]\n",
      " [  0]\n",
      " [ 24]\n",
      " [  0]\n",
      " [ 25]\n",
      " [  5]\n",
      " [111]\n",
      " [  5]\n",
      " [111]\n",
      " [  0]\n",
      " [ 11]\n",
      " [  5]\n",
      " [109]\n",
      " [  5]\n",
      " [109]\n",
      " [  0]\n",
      " [ 12]\n",
      " [  0]\n",
      " [ 28]\n",
      " [  0]\n",
      " [ 30]\n",
      " [  0]\n",
      " [ 31]\n",
      " [  5]\n",
      " [111]\n",
      " [  5]\n",
      " [109]\n",
      " [  0]\n",
      " [ 13]\n",
      " [  0]\n",
      " [ 17]\n",
      " [  5]\n",
      " [109]\n",
      " [  5]\n",
      " [111]\n",
      " [  5]\n",
      " [111]\n",
      " [  0]\n",
      " [ 32]\n",
      " [  0]\n",
      " [ 30]\n",
      " [  0]\n",
      " [ 14]\n",
      " [  0]\n",
      " [ 13]\n",
      " [  0]\n",
      " [ 17]\n",
      " [  5]\n",
      " [109]\n",
      " [  0]\n",
      " [ 11]\n",
      " [  5]\n",
      " [109]\n",
      " [  5]\n",
      " [109]\n",
      " [  0]\n",
      " [ 23]\n",
      " [  5]\n",
      " [109]\n",
      " [  5]\n",
      " [109]\n",
      " [  0]\n",
      " [ 18]\n",
      " [  0]\n",
      " [ 20]\n",
      " [  0]\n",
      " [ 25]\n",
      " [  5]\n",
      " [111]\n",
      " [  5]\n",
      " [111]\n",
      " [  0]\n",
      " [ 28]\n",
      " [  0]\n",
      " [ 35]\n",
      " [  5]\n",
      " [108]\n",
      " [  0]\n",
      " [ 38]\n",
      " [  0]\n",
      " [ 40]\n",
      " [  0]\n",
      " [ 11]\n",
      " [  5]\n",
      " [109]\n",
      " [  5]\n",
      " [109]\n",
      " [  0]\n",
      " [ 12]\n",
      " [  0]\n",
      " [ 24]\n",
      " [  0]\n",
      " [ 25]\n",
      " [  5]\n",
      " [111]\n",
      " [  5]\n",
      " [111]\n",
      " [  5]\n",
      " [109]\n",
      " [  0]\n",
      " [ 13]\n",
      " [  0]\n",
      " [ 17]\n",
      " [  5]\n",
      " [109]\n",
      " [  0]\n",
      " [ 28]\n",
      " [  0]\n",
      " [ 30]\n",
      " [  0]\n",
      " [ 31]\n",
      " [  5]\n",
      " [111]\n",
      " [  5]\n",
      " [109]\n",
      " [  5]\n",
      " [109]\n",
      " [  0]\n",
      " [ 34]\n",
      " [  0]\n",
      " [ 35]]\n",
      "episode_returns\n",
      "4\n",
      "[0.09333333 0.08777778 0.08777778 0.08888889]\n",
      "rewards\n",
      "160\n",
      "[ 0.          0.01        0.          0.00444444  0.          0.00444444\n",
      "  0.         -0.00111111  0.          0.00777778  0.         -0.00555556\n",
      "  0.         -0.00888889  0.         -0.00666667  0.          0.00777778\n",
      "  0.          0.00555556  0.          0.00777778  0.          0.01\n",
      "  0.          0.01        0.          0.01        0.          0.01\n",
      "  0.          0.00444444  0.          0.01        0.          0.01\n",
      "  0.          0.00333333  0.         -0.00333333  0.          0.\n",
      "  0.          0.01111111  0.          0.00555556  0.          0.00555556\n",
      "  0.          0.01        0.          0.00555556  0.          0.00555556\n",
      "  0.          0.00111111  0.          0.00555556  0.         -0.00333333\n",
      "  0.         -0.00555556  0.          0.00888889  0.          0.00888889\n",
      "  0.          0.00444444  0.          0.00444444  0.          0.00666667\n",
      "  0.          0.00666667  0.          0.00666667  0.          0.00333333\n",
      "  0.          0.00333333  0.         -0.00111111  0.          0.01\n",
      "  0.          0.00444444  0.          0.00666667  0.          0.01\n",
      "  0.          0.00666667  0.          0.00666667  0.          0.00111111\n",
      "  0.          0.00666667  0.          0.00666667  0.         -0.01111111\n",
      "  0.         -0.00444444  0.          0.00111111  0.          0.00777778\n",
      "  0.          0.00777778  0.          0.00222222  0.          0.01111111\n",
      "  0.          0.00666667  0.          0.00555556  0.          0.00222222\n",
      "  0.          0.01        0.          0.00444444  0.          0.00444444\n",
      "  0.         -0.00111111  0.          0.00222222  0.          0.01111111\n",
      "  0.          0.00666667  0.          0.00666667  0.          0.00666667\n",
      "  0.          0.00555556  0.          0.00555556  0.          0.00555556\n",
      "  0.          0.00444444  0.         -0.00111111  0.         -0.00333333\n",
      "  0.          0.00666667  0.          0.00666667  0.          0.00666667\n",
      "  0.         -0.00111111  0.          0.00333333]\n",
      "obs\n",
      "160\n",
      "[[0.875      0.75       0.83333331 ... 0.         0.         0.        ]\n",
      " [0.875      0.75       0.83333331 ... 0.         0.         0.        ]\n",
      " [0.875      0.75       0.83333331 ... 0.         0.         0.        ]\n",
      " ...\n",
      " [0.875      1.         0.83333331 ... 0.         0.         0.        ]\n",
      " [0.875      1.         0.83333331 ... 0.         0.         0.        ]\n",
      " [0.875      1.         0.83333331 ... 0.         0.         0.        ]]\n",
      "episode_starts\n",
      "160\n",
      "[ True False False False False False False False False False False False\n",
      " False False False False False False False False False False False False\n",
      " False False False False False False False False False False False False\n",
      " False False False False  True False False False False False False False\n",
      " False False False False False False False False False False False False\n",
      " False False False False False False False False False False False False\n",
      " False False False False False False False False  True False False False\n",
      " False False False False False False False False False False False False\n",
      " False False False False False False False False False False False False\n",
      " False False False False False False False False False False False False\n",
      "  True False False False False False False False False False False False\n",
      " False False False False False False False False False False False False\n",
      " False False False False False False False False False False False False\n",
      " False False False False]\n"
     ]
    }
   ],
   "source": [
    "from numpy import load\n",
    "\n",
    "data = load('../logs/expert_pandemic.npz')\n",
    "lst = data.files\n",
    "for item in lst:\n",
    "    print(item)\n",
    "    print(len(data[item]))\n",
    "    print(data[item])"
   ]
  },
  {
   "cell_type": "code",
   "execution_count": 31,
   "metadata": {
    "ExecuteTime": {
     "end_time": "2020-08-05T12:44:45.183182Z",
     "start_time": "2020-08-05T12:44:45.161711Z"
    }
   },
   "outputs": [
    {
     "data": {
      "text/plain": [
       "8"
      ]
     },
     "execution_count": 31,
     "metadata": {},
     "output_type": "execute_result"
    }
   ],
   "source": [
    "2 ** 3"
   ]
  },
  {
   "cell_type": "code",
   "execution_count": null,
   "metadata": {},
   "outputs": [],
   "source": [
    ""
   ]
  }
 ],
 "metadata": {
  "kernelspec": {
   "display_name": "Python 3",
   "language": "python",
   "name": "python3"
  },
  "language_info": {
   "codemirror_mode": {
    "name": "ipython",
    "version": 3.0
   },
   "file_extension": ".py",
   "mimetype": "text/x-python",
   "name": "python",
   "nbconvert_exporter": "python",
   "pygments_lexer": "ipython3",
   "version": "3.7.7"
  },
  "toc": {
   "base_numbering": 1.0,
   "nav_menu": {},
   "number_sections": true,
   "sideBar": true,
   "skip_h1_title": false,
   "title_cell": "Table of Contents",
   "title_sidebar": "Contents",
   "toc_cell": false,
   "toc_position": {},
   "toc_section_display": true,
   "toc_window_display": false
  },
  "varInspector": {
   "cols": {
    "lenName": 16.0,
    "lenType": 16.0,
    "lenVar": 40.0
   },
   "kernels_config": {
    "python": {
     "delete_cmd_postfix": "",
     "delete_cmd_prefix": "del ",
     "library": "var_list.py",
     "varRefreshCmd": "print(var_dic_list())"
    },
    "r": {
     "delete_cmd_postfix": ") ",
     "delete_cmd_prefix": "rm(",
     "library": "var_list.r",
     "varRefreshCmd": "cat(var_dic_list()) "
    }
   },
   "types_to_exclude": [
    "module",
    "function",
    "builtin_function_or_method",
    "instance",
    "_Feature"
   ],
   "window_display": false
  }
 },
 "nbformat": 4,
 "nbformat_minor": 0
}