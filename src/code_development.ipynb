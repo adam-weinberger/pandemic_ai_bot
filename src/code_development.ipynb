{
 "cells": [
  {
   "cell_type": "code",
   "execution_count": 2,
   "metadata": {
    "ExecuteTime": {
     "end_time": "2020-08-03T22:45:46.790136Z",
     "start_time": "2020-08-03T22:45:46.786235Z"
    }
   },
   "outputs": [],
   "source": [
    "from game_env import GameEnv\n",
    "import constants\n",
    "from bot_game import BotGame\n",
    "import pandas as pd\n",
    "import numpy as np\n",
    "from gym import spaces\n",
    "import gym\n",
    "from collections import Counter"
   ]
  },
  {
   "cell_type": "code",
   "execution_count": 3,
   "metadata": {
    "ExecuteTime": {
     "end_time": "2020-08-03T22:45:47.710855Z",
     "start_time": "2020-08-03T22:45:47.697068Z"
    }
   },
   "outputs": [],
   "source": [
    "env = gym.make('CartPole-v1')"
   ]
  },
  {
   "cell_type": "code",
   "execution_count": 4,
   "metadata": {
    "ExecuteTime": {
     "end_time": "2020-08-03T22:45:49.745437Z",
     "start_time": "2020-08-03T22:45:49.733799Z"
    }
   },
   "outputs": [
    {
     "data": {
      "text/plain": [
       "Box(4,)"
      ]
     },
     "execution_count": 4,
     "metadata": {},
     "output_type": "execute_result"
    }
   ],
   "source": [
    "env.observation_space"
   ]
  },
  {
   "cell_type": "code",
   "execution_count": 5,
   "metadata": {
    "ExecuteTime": {
     "end_time": "2020-08-03T22:45:51.882807Z",
     "start_time": "2020-08-03T22:45:51.875524Z"
    }
   },
   "outputs": [
    {
     "data": {
      "text/plain": [
       "array([ 0.04425034, -0.00019404, -0.03799084,  0.0214096 ])"
      ]
     },
     "execution_count": 5,
     "metadata": {},
     "output_type": "execute_result"
    }
   ],
   "source": [
    "env.reset()"
   ]
  },
  {
   "cell_type": "code",
   "execution_count": null,
   "metadata": {
    "ExecuteTime": {
     "start_time": "2020-08-03T22:45:51.202Z"
    },
    "scrolled": true
   },
   "outputs": [],
   "source": [
    "my_game = BotGame(2, 4)"
   ]
  },
  {
   "cell_type": "code",
   "execution_count": null,
   "metadata": {
    "ExecuteTime": {
     "start_time": "2020-08-03T22:45:52.411Z"
    },
    "scrolled": true
   },
   "outputs": [],
   "source": [
    "observation, reward = my_game.game_state_reward()"
   ]
  },
  {
   "cell_type": "code",
   "execution_count": null,
   "metadata": {
    "ExecuteTime": {
     "start_time": "2020-08-03T22:45:53.537Z"
    },
    "scrolled": true
   },
   "outputs": [],
   "source": [
    "len(observation)"
   ]
  },
  {
   "cell_type": "code",
   "execution_count": null,
   "metadata": {
    "ExecuteTime": {
     "start_time": "2020-08-03T22:45:54.570Z"
    },
    "scrolled": false
   },
   "outputs": [],
   "source": [
    "observation_reset = my_game.reset()\n",
    "len(observation_reset)"
   ]
  },
  {
   "cell_type": "code",
   "execution_count": null,
   "metadata": {
    "ExecuteTime": {
     "end_time": "2020-08-03T22:45:24.105984Z",
     "start_time": "2020-08-03T22:45:16.641Z"
    }
   },
   "outputs": [],
   "source": [
    "list(observation_reset.keys())"
   ]
  },
  {
   "cell_type": "code",
   "execution_count": null,
   "metadata": {
    "ExecuteTime": {
     "end_time": "2020-08-03T22:45:24.108440Z",
     "start_time": "2020-08-03T22:45:16.658Z"
    }
   },
   "outputs": [],
   "source": [
    "obs_space = my_game.create_observation_space()"
   ]
  },
  {
   "cell_type": "code",
   "execution_count": null,
   "metadata": {
    "ExecuteTime": {
     "end_time": "2020-08-03T22:45:24.111119Z",
     "start_time": "2020-08-03T22:45:16.675Z"
    }
   },
   "outputs": [],
   "source": [
    "len(obs_space.spaces)"
   ]
  },
  {
   "cell_type": "code",
   "execution_count": null,
   "metadata": {
    "ExecuteTime": {
     "end_time": "2020-08-03T22:45:24.116639Z",
     "start_time": "2020-08-03T22:45:16.693Z"
    }
   },
   "outputs": [],
   "source": [
    "list(obs_space.spaces.keys())"
   ]
  },
  {
   "cell_type": "code",
   "execution_count": null,
   "metadata": {
    "ExecuteTime": {
     "end_time": "2020-08-03T22:45:24.122398Z",
     "start_time": "2020-08-03T22:45:16.713Z"
    }
   },
   "outputs": [],
   "source": [
    "list(zip(list(obs_space.spaces.keys()), list(observation_reset.keys())))"
   ]
  },
  {
   "cell_type": "code",
   "execution_count": null,
   "metadata": {
    "ExecuteTime": {
     "end_time": "2020-08-03T22:45:24.124509Z",
     "start_time": "2020-08-03T22:45:16.730Z"
    }
   },
   "outputs": [],
   "source": [
    "my_game.create_observation_space()"
   ]
  },
  {
   "cell_type": "code",
   "execution_count": null,
   "metadata": {
    "ExecuteTime": {
     "end_time": "2020-08-03T22:45:24.126600Z",
     "start_time": "2020-08-03T22:45:16.745Z"
    }
   },
   "outputs": [],
   "source": [
    "# str(my_game.current_player.current_city)\n",
    "start_city = my_game.city_dict['chennai']\n",
    "str(start_city)"
   ]
  },
  {
   "cell_type": "code",
   "execution_count": null,
   "metadata": {
    "ExecuteTime": {
     "end_time": "2020-08-03T22:45:24.128592Z",
     "start_time": "2020-08-03T22:45:16.763Z"
    }
   },
   "outputs": [],
   "source": [
    "[str(x) for x in my_game.current_player.cards()]"
   ]
  },
  {
   "cell_type": "code",
   "execution_count": null,
   "metadata": {
    "ExecuteTime": {
     "end_time": "2020-08-03T22:45:24.130733Z",
     "start_time": "2020-08-03T22:45:16.777Z"
    },
    "scrolled": true
   },
   "outputs": [],
   "source": [
    "city_dist = my_game.shortest_paths(start_city)"
   ]
  },
  {
   "cell_type": "code",
   "execution_count": null,
   "metadata": {
    "ExecuteTime": {
     "end_time": "2020-08-03T22:45:24.132914Z",
     "start_time": "2020-08-03T22:45:16.795Z"
    },
    "scrolled": true
   },
   "outputs": [],
   "source": [
    "city_dist"
   ]
  },
  {
   "cell_type": "code",
   "execution_count": null,
   "metadata": {
    "ExecuteTime": {
     "end_time": "2020-08-03T22:45:24.135012Z",
     "start_time": "2020-08-03T22:45:16.810Z"
    }
   },
   "outputs": [],
   "source": [
    "max([*city_dist.values()])"
   ]
  },
  {
   "cell_type": "code",
   "execution_count": null,
   "metadata": {
    "ExecuteTime": {
     "end_time": "2020-08-03T22:45:24.137179Z",
     "start_time": "2020-08-03T22:45:16.826Z"
    }
   },
   "outputs": [],
   "source": [
    "new_reward_level = 0\n",
    "color_rewards = [0, 0, 5, 10, 15, 20] + [20] * (constants.HAND_SIZE_LIMIT - 5)\n",
    "for player in [*my_game.player_dict.values()]:\n",
    "    card_colors = [card.color for card in player.player_hand.hand]\n",
    "    card_colors = Counter(card_colors)\n",
    "    print(card_colors.values())\n",
    "    new_reward_level += sum([color_rewards[count] for count in card_colors.values()])\n",
    "new_reward_level"
   ]
  },
  {
   "cell_type": "code",
   "execution_count": null,
   "metadata": {
    "ExecuteTime": {
     "end_time": "2020-08-03T22:45:24.139303Z",
     "start_time": "2020-08-03T22:45:16.842Z"
    }
   },
   "outputs": [],
   "source": [
    "a = [1,2,3,4]\n",
    "a[:-1]"
   ]
  },
  {
   "cell_type": "code",
   "execution_count": null,
   "metadata": {
    "ExecuteTime": {
     "end_time": "2020-08-03T22:45:24.141143Z",
     "start_time": "2020-08-03T22:45:16.857Z"
    }
   },
   "outputs": [],
   "source": [
    "a = np.empty((3,2), dtype=object)"
   ]
  },
  {
   "cell_type": "code",
   "execution_count": null,
   "metadata": {
    "ExecuteTime": {
     "end_time": "2020-08-03T22:45:24.143050Z",
     "start_time": "2020-08-03T22:45:16.874Z"
    }
   },
   "outputs": [],
   "source": [
    "a[2,0] = start_cty"
   ]
  },
  {
   "cell_type": "code",
   "execution_count": null,
   "metadata": {
    "ExecuteTime": {
     "end_time": "2020-08-03T22:45:24.145007Z",
     "start_time": "2020-08-03T22:45:16.888Z"
    }
   },
   "outputs": [],
   "source": [
    "a"
   ]
  },
  {
   "cell_type": "code",
   "execution_count": null,
   "metadata": {},
   "outputs": [],
   "source": []
  }
 ],
 "metadata": {
  "kernelspec": {
   "display_name": "Python 3",
   "language": "python",
   "name": "python3"
  },
  "language_info": {
   "codemirror_mode": {
    "name": "ipython",
    "version": 3
   },
   "file_extension": ".py",
   "mimetype": "text/x-python",
   "name": "python",
   "nbconvert_exporter": "python",
   "pygments_lexer": "ipython3",
   "version": "3.7.7"
  },
  "toc": {
   "base_numbering": 1,
   "nav_menu": {},
   "number_sections": true,
   "sideBar": true,
   "skip_h1_title": false,
   "title_cell": "Table of Contents",
   "title_sidebar": "Contents",
   "toc_cell": false,
   "toc_position": {},
   "toc_section_display": true,
   "toc_window_display": false
  },
  "varInspector": {
   "cols": {
    "lenName": 16,
    "lenType": 16,
    "lenVar": 40
   },
   "kernels_config": {
    "python": {
     "delete_cmd_postfix": "",
     "delete_cmd_prefix": "del ",
     "library": "var_list.py",
     "varRefreshCmd": "print(var_dic_list())"
    },
    "r": {
     "delete_cmd_postfix": ") ",
     "delete_cmd_prefix": "rm(",
     "library": "var_list.r",
     "varRefreshCmd": "cat(var_dic_list()) "
    }
   },
   "types_to_exclude": [
    "module",
    "function",
    "builtin_function_or_method",
    "instance",
    "_Feature"
   ],
   "window_display": false
  }
 },
 "nbformat": 4,
 "nbformat_minor": 4
}
