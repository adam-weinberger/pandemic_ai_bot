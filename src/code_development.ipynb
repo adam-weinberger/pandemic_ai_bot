{
 "cells": [
  {
   "cell_type": "code",
   "execution_count": 1,
   "metadata": {
    "ExecuteTime": {
     "end_time": "2020-07-31T20:41:03.575504Z",
     "start_time": "2020-07-31T20:40:54.496431Z"
    }
   },
   "outputs": [],
   "source": [
    "from game_env import GameEnv\n",
    "import constants\n",
    "from bot_game import BotGame\n",
    "import pandas as pd\n",
    "import numpy as np\n",
    "from reward_tracker import reward_tracker\n",
    "from gym import spaces\n",
    "import gym"
   ]
  },
  {
   "cell_type": "code",
   "execution_count": 2,
   "metadata": {
    "ExecuteTime": {
     "end_time": "2020-07-31T20:41:03.595342Z",
     "start_time": "2020-07-31T20:41:03.580045Z"
    }
   },
   "outputs": [],
   "source": [
    "env = gym.make('CartPole-v1')"
   ]
  },
  {
   "cell_type": "code",
   "execution_count": 3,
   "metadata": {
    "ExecuteTime": {
     "end_time": "2020-07-31T20:41:03.623793Z",
     "start_time": "2020-07-31T20:41:03.604168Z"
    }
   },
   "outputs": [
    {
     "data": {
      "text/plain": [
       "Box(4,)"
      ]
     },
     "execution_count": 3,
     "metadata": {},
     "output_type": "execute_result"
    }
   ],
   "source": [
    "env.observation_space"
   ]
  },
  {
   "cell_type": "code",
   "execution_count": 4,
   "metadata": {
    "ExecuteTime": {
     "end_time": "2020-07-31T20:41:03.637025Z",
     "start_time": "2020-07-31T20:41:03.629279Z"
    }
   },
   "outputs": [
    {
     "data": {
      "text/plain": [
       "array([ 0.03604072, -0.01632926, -0.01750028, -0.00045646])"
      ]
     },
     "execution_count": 4,
     "metadata": {},
     "output_type": "execute_result"
    }
   ],
   "source": [
    "env.reset()"
   ]
  },
  {
   "cell_type": "code",
   "execution_count": 5,
   "metadata": {
    "ExecuteTime": {
     "end_time": "2020-07-31T20:41:03.736325Z",
     "start_time": "2020-07-31T20:41:03.644982Z"
    },
    "scrolled": true
   },
   "outputs": [
    {
     "name": "stdout",
     "output_type": "stream",
     "text": [
      "create_cities\n",
      "create_decks\n",
      "Infecting InfectionCard(osaka, red) with 3\n",
      "Infecting InfectionCard(kinshasa, yellow) with 3\n",
      "Infecting InfectionCard(madrid, blue) with 3\n",
      "Infecting InfectionCard(bogota, yellow) with 2\n",
      "Infecting InfectionCard(chicago, blue) with 2\n",
      "Infecting InfectionCard(tehran, black) with 2\n",
      "Infecting InfectionCard(montreal, blue) with 1\n",
      "Infecting InfectionCard(istanbul, black) with 1\n",
      "Infecting InfectionCard(sydney, red) with 1\n",
      "create_players\n",
      "Player: player 0's turn\n",
      "Turn: 0\n",
      "You are in: City(atlanta, blue, 0 cubes)\n",
      "Current hand: ['PlayerCityCard(madrid, blue)', 'PlayerCityCard(new_york, blue)', 'PlayerCityCard(milan, blue)', 'PlayerCityCard(lima, yellow)', 'PlayerCityCard(chicago, blue)', 'PlayerCityCard(atlanta, blue)']\n"
     ]
    }
   ],
   "source": [
    "my_game = BotGame(2, 4)"
   ]
  },
  {
   "cell_type": "code",
   "execution_count": 6,
   "metadata": {
    "ExecuteTime": {
     "end_time": "2020-07-31T20:41:03.981271Z",
     "start_time": "2020-07-31T20:41:03.913000Z"
    },
    "scrolled": true
   },
   "outputs": [],
   "source": [
    "observation, reward = my_game.game_state_reward()"
   ]
  },
  {
   "cell_type": "code",
   "execution_count": 7,
   "metadata": {
    "ExecuteTime": {
     "end_time": "2020-07-31T20:41:03.989640Z",
     "start_time": "2020-07-31T20:41:03.984171Z"
    },
    "scrolled": true
   },
   "outputs": [
    {
     "data": {
      "text/plain": [
       "(416,)"
      ]
     },
     "execution_count": 7,
     "metadata": {},
     "output_type": "execute_result"
    }
   ],
   "source": [
    "observation.shape"
   ]
  },
  {
   "cell_type": "code",
   "execution_count": 8,
   "metadata": {
    "ExecuteTime": {
     "end_time": "2020-07-31T20:41:04.004000Z",
     "start_time": "2020-07-31T20:41:03.997861Z"
    }
   },
   "outputs": [
    {
     "data": {
      "text/plain": [
       "13"
      ]
     },
     "execution_count": 8,
     "metadata": {},
     "output_type": "execute_result"
    }
   ],
   "source": [
    "my_game.reward_level"
   ]
  },
  {
   "cell_type": "code",
   "execution_count": 9,
   "metadata": {
    "ExecuteTime": {
     "end_time": "2020-07-31T20:41:04.106083Z",
     "start_time": "2020-07-31T20:41:04.011442Z"
    },
    "scrolled": true
   },
   "outputs": [
    {
     "name": "stdout",
     "output_type": "stream",
     "text": [
      "create_cities\n",
      "create_decks\n",
      "Infecting InfectionCard(osaka, red) with 3\n",
      "Infecting InfectionCard(kinshasa, yellow) with 3\n",
      "Infecting InfectionCard(madrid, blue) with 3\n",
      "Infecting InfectionCard(bogota, yellow) with 2\n",
      "Infecting InfectionCard(chicago, blue) with 2\n",
      "Infecting InfectionCard(tehran, black) with 2\n",
      "Infecting InfectionCard(montreal, blue) with 1\n",
      "Infecting InfectionCard(istanbul, black) with 1\n",
      "Infecting InfectionCard(sydney, red) with 1\n",
      "create_players\n",
      "Player: player 0's turn\n",
      "Turn: 0\n",
      "You are in: City(atlanta, blue, 0 cubes)\n",
      "Current hand: ['PlayerCityCard(madrid, blue)', 'PlayerCityCard(new_york, blue)', 'PlayerCityCard(milan, blue)', 'PlayerCityCard(lima, yellow)', 'PlayerCityCard(chicago, blue)', 'PlayerCityCard(atlanta, blue)']\n",
      "Game step player action 1\n"
     ]
    },
    {
     "data": {
      "text/plain": [
       "(416,)"
      ]
     },
     "execution_count": 9,
     "metadata": {},
     "output_type": "execute_result"
    }
   ],
   "source": [
    "observation_reset = my_game.reset()\n",
    "observation_reset.shape"
   ]
  },
  {
   "cell_type": "code",
   "execution_count": 10,
   "metadata": {
    "ExecuteTime": {
     "end_time": "2020-07-31T20:41:04.119665Z",
     "start_time": "2020-07-31T20:41:04.111812Z"
    }
   },
   "outputs": [
    {
     "data": {
      "text/plain": [
       "(1, 4)"
      ]
     },
     "execution_count": 10,
     "metadata": {},
     "output_type": "execute_result"
    }
   ],
   "source": [
    "a=np.array([[0,1,2,3]])\n",
    "a.shape"
   ]
  },
  {
   "cell_type": "code",
   "execution_count": 11,
   "metadata": {
    "ExecuteTime": {
     "end_time": "2020-07-31T20:41:04.131001Z",
     "start_time": "2020-07-31T20:41:04.122882Z"
    }
   },
   "outputs": [
    {
     "data": {
      "text/plain": [
       "(4,)"
      ]
     },
     "execution_count": 11,
     "metadata": {},
     "output_type": "execute_result"
    }
   ],
   "source": [
    "np.resize(a,(4,)).shape"
   ]
  },
  {
   "cell_type": "code",
   "execution_count": 12,
   "metadata": {
    "ExecuteTime": {
     "end_time": "2020-07-31T20:41:04.140529Z",
     "start_time": "2020-07-31T20:41:04.134314Z"
    }
   },
   "outputs": [
    {
     "data": {
      "text/plain": [
       "<function ndarray.resize>"
      ]
     },
     "execution_count": 12,
     "metadata": {},
     "output_type": "execute_result"
    }
   ],
   "source": [
    "observation_reset.resize"
   ]
  },
  {
   "cell_type": "code",
   "execution_count": 13,
   "metadata": {
    "ExecuteTime": {
     "end_time": "2020-07-31T20:41:04.169839Z",
     "start_time": "2020-07-31T20:41:04.145317Z"
    }
   },
   "outputs": [
    {
     "data": {
      "text/plain": [
       "['cubes_left_black',\n",
       " 'cubes_left_blue',\n",
       " 'cubes_left_red',\n",
       " 'cubes_left_yellow',\n",
       " 'draw cards',\n",
       " 'infection_card_algiers_in_deck',\n",
       " 'infection_card_atlanta_in_deck',\n",
       " 'infection_card_baghdad_in_deck',\n",
       " 'infection_card_bangkok_in_deck',\n",
       " 'infection_card_beijing_in_deck',\n",
       " 'infection_card_bogota_in_deck',\n",
       " 'infection_card_buenos_aires_in_deck',\n",
       " 'infection_card_cairo_in_deck',\n",
       " 'infection_card_chennai_in_deck',\n",
       " 'infection_card_chicago_in_deck',\n",
       " 'infection_card_delhi_in_deck',\n",
       " 'infection_card_essen_in_deck',\n",
       " 'infection_card_ho_chi_minh_city_in_deck',\n",
       " 'infection_card_hong_kong_in_deck',\n",
       " 'infection_card_istanbul_in_deck',\n",
       " 'infection_card_jakarta_in_deck',\n",
       " 'infection_card_johannesburg_in_deck',\n",
       " 'infection_card_karachi_in_deck',\n",
       " 'infection_card_khartoum_in_deck',\n",
       " 'infection_card_kinshasa_in_deck',\n",
       " 'infection_card_kolkata_in_deck',\n",
       " 'infection_card_lagos_in_deck',\n",
       " 'infection_card_lima_in_deck',\n",
       " 'infection_card_london_in_deck',\n",
       " 'infection_card_los_angeles_in_deck',\n",
       " 'infection_card_madrid_in_deck',\n",
       " 'infection_card_manila_in_deck',\n",
       " 'infection_card_mexico_city_in_deck',\n",
       " 'infection_card_miami_in_deck',\n",
       " 'infection_card_milan_in_deck',\n",
       " 'infection_card_montreal_in_deck',\n",
       " 'infection_card_moscow_in_deck',\n",
       " 'infection_card_mumbai_in_deck',\n",
       " 'infection_card_new_york_in_deck',\n",
       " 'infection_card_osaka_in_deck',\n",
       " 'infection_card_paris_in_deck',\n",
       " 'infection_card_riyadh_in_deck',\n",
       " 'infection_card_san_francisco_in_deck',\n",
       " 'infection_card_santiago_in_deck',\n",
       " 'infection_card_sao_paolo_in_deck',\n",
       " 'infection_card_seoul_in_deck',\n",
       " 'infection_card_shanghai_in_deck',\n",
       " 'infection_card_st_petersburg_in_deck',\n",
       " 'infection_card_sydney_in_deck',\n",
       " 'infection_card_taipei_in_deck',\n",
       " 'infection_card_tehran_in_deck',\n",
       " 'infection_card_tokyo_in_deck',\n",
       " 'infection_card_washington_in_deck',\n",
       " 'infection_rate',\n",
       " 'is_cured_black',\n",
       " 'is_cured_blue',\n",
       " 'is_cured_red',\n",
       " 'is_cured_yellow',\n",
       " 'num_cubes_algiers',\n",
       " 'num_cubes_atlanta',\n",
       " 'num_cubes_baghdad',\n",
       " 'num_cubes_bangkok',\n",
       " 'num_cubes_beijing',\n",
       " 'num_cubes_bogota',\n",
       " 'num_cubes_buenos_aires',\n",
       " 'num_cubes_cairo',\n",
       " 'num_cubes_chennai',\n",
       " 'num_cubes_chicago',\n",
       " 'num_cubes_delhi',\n",
       " 'num_cubes_essen',\n",
       " 'num_cubes_ho_chi_minh_city',\n",
       " 'num_cubes_hong_kong',\n",
       " 'num_cubes_istanbul',\n",
       " 'num_cubes_jakarta',\n",
       " 'num_cubes_johannesburg',\n",
       " 'num_cubes_karachi',\n",
       " 'num_cubes_khartoum',\n",
       " 'num_cubes_kinshasa',\n",
       " 'num_cubes_kolkata',\n",
       " 'num_cubes_lagos',\n",
       " 'num_cubes_lima',\n",
       " 'num_cubes_london',\n",
       " 'num_cubes_los_angeles',\n",
       " 'num_cubes_madrid',\n",
       " 'num_cubes_manila',\n",
       " 'num_cubes_mexico_city',\n",
       " 'num_cubes_miami',\n",
       " 'num_cubes_milan',\n",
       " 'num_cubes_montreal',\n",
       " 'num_cubes_moscow',\n",
       " 'num_cubes_mumbai',\n",
       " 'num_cubes_new_york',\n",
       " 'num_cubes_osaka',\n",
       " 'num_cubes_paris',\n",
       " 'num_cubes_riyadh',\n",
       " 'num_cubes_san_francisco',\n",
       " 'num_cubes_santiago',\n",
       " 'num_cubes_sao_paolo',\n",
       " 'num_cubes_seoul',\n",
       " 'num_cubes_shanghai',\n",
       " 'num_cubes_st_petersburg',\n",
       " 'num_cubes_sydney',\n",
       " 'num_cubes_taipei',\n",
       " 'num_cubes_tehran',\n",
       " 'num_cubes_tokyo',\n",
       " 'num_cubes_washington',\n",
       " 'outbreak_level',\n",
       " 'player 0_in_algiers',\n",
       " 'player 0_in_atlanta',\n",
       " 'player 0_in_baghdad',\n",
       " 'player 0_in_bangkok',\n",
       " 'player 0_in_beijing',\n",
       " 'player 0_in_bogota',\n",
       " 'player 0_in_buenos_aires',\n",
       " 'player 0_in_cairo',\n",
       " 'player 0_in_chennai',\n",
       " 'player 0_in_chicago',\n",
       " 'player 0_in_delhi',\n",
       " 'player 0_in_essen',\n",
       " 'player 0_in_ho_chi_minh_city',\n",
       " 'player 0_in_hong_kong',\n",
       " 'player 0_in_istanbul',\n",
       " 'player 0_in_jakarta',\n",
       " 'player 0_in_johannesburg',\n",
       " 'player 0_in_karachi',\n",
       " 'player 0_in_khartoum',\n",
       " 'player 0_in_kinshasa',\n",
       " 'player 0_in_kolkata',\n",
       " 'player 0_in_lagos',\n",
       " 'player 0_in_lima',\n",
       " 'player 0_in_london',\n",
       " 'player 0_in_los_angeles',\n",
       " 'player 0_in_madrid',\n",
       " 'player 0_in_manila',\n",
       " 'player 0_in_mexico_city',\n",
       " 'player 0_in_miami',\n",
       " 'player 0_in_milan',\n",
       " 'player 0_in_montreal',\n",
       " 'player 0_in_moscow',\n",
       " 'player 0_in_mumbai',\n",
       " 'player 0_in_new_york',\n",
       " 'player 0_in_osaka',\n",
       " 'player 0_in_paris',\n",
       " 'player 0_in_riyadh',\n",
       " 'player 0_in_san_francisco',\n",
       " 'player 0_in_santiago',\n",
       " 'player 0_in_sao_paolo',\n",
       " 'player 0_in_seoul',\n",
       " 'player 0_in_shanghai',\n",
       " 'player 0_in_st_petersburg',\n",
       " 'player 0_in_sydney',\n",
       " 'player 0_in_taipei',\n",
       " 'player 0_in_tehran',\n",
       " 'player 0_in_tokyo',\n",
       " 'player 0_in_washington',\n",
       " 'player 1_in_algiers',\n",
       " 'player 1_in_atlanta',\n",
       " 'player 1_in_baghdad',\n",
       " 'player 1_in_bangkok',\n",
       " 'player 1_in_beijing',\n",
       " 'player 1_in_bogota',\n",
       " 'player 1_in_buenos_aires',\n",
       " 'player 1_in_cairo',\n",
       " 'player 1_in_chennai',\n",
       " 'player 1_in_chicago',\n",
       " 'player 1_in_delhi',\n",
       " 'player 1_in_essen',\n",
       " 'player 1_in_ho_chi_minh_city',\n",
       " 'player 1_in_hong_kong',\n",
       " 'player 1_in_istanbul',\n",
       " 'player 1_in_jakarta',\n",
       " 'player 1_in_johannesburg',\n",
       " 'player 1_in_karachi',\n",
       " 'player 1_in_khartoum',\n",
       " 'player 1_in_kinshasa',\n",
       " 'player 1_in_kolkata',\n",
       " 'player 1_in_lagos',\n",
       " 'player 1_in_lima',\n",
       " 'player 1_in_london',\n",
       " 'player 1_in_los_angeles',\n",
       " 'player 1_in_madrid',\n",
       " 'player 1_in_manila',\n",
       " 'player 1_in_mexico_city',\n",
       " 'player 1_in_miami',\n",
       " 'player 1_in_milan',\n",
       " 'player 1_in_montreal',\n",
       " 'player 1_in_moscow',\n",
       " 'player 1_in_mumbai',\n",
       " 'player 1_in_new_york',\n",
       " 'player 1_in_osaka',\n",
       " 'player 1_in_paris',\n",
       " 'player 1_in_riyadh',\n",
       " 'player 1_in_san_francisco',\n",
       " 'player 1_in_santiago',\n",
       " 'player 1_in_sao_paolo',\n",
       " 'player 1_in_seoul',\n",
       " 'player 1_in_shanghai',\n",
       " 'player 1_in_st_petersburg',\n",
       " 'player 1_in_sydney',\n",
       " 'player 1_in_taipei',\n",
       " 'player 1_in_tehran',\n",
       " 'player 1_in_tokyo',\n",
       " 'player 1_in_washington',\n",
       " 'player action 1',\n",
       " 'player action 2',\n",
       " 'player action 3',\n",
       " 'player action 4',\n",
       " 'player arg 1',\n",
       " 'player arg 2',\n",
       " 'player arg 3',\n",
       " 'player arg 4',\n",
       " 'player_card_algiers_in_deck',\n",
       " 'player_card_algiers_in_player 0_hand',\n",
       " 'player_card_algiers_in_player 1_hand',\n",
       " 'player_card_atlanta_in_deck',\n",
       " 'player_card_atlanta_in_player 0_hand',\n",
       " 'player_card_atlanta_in_player 1_hand',\n",
       " 'player_card_baghdad_in_deck',\n",
       " 'player_card_baghdad_in_player 0_hand',\n",
       " 'player_card_baghdad_in_player 1_hand',\n",
       " 'player_card_bangkok_in_deck',\n",
       " 'player_card_bangkok_in_player 0_hand',\n",
       " 'player_card_bangkok_in_player 1_hand',\n",
       " 'player_card_beijing_in_deck',\n",
       " 'player_card_beijing_in_player 0_hand',\n",
       " 'player_card_beijing_in_player 1_hand',\n",
       " 'player_card_bogota_in_deck',\n",
       " 'player_card_bogota_in_player 0_hand',\n",
       " 'player_card_bogota_in_player 1_hand',\n",
       " 'player_card_buenos_aires_in_deck',\n",
       " 'player_card_buenos_aires_in_player 0_hand',\n",
       " 'player_card_buenos_aires_in_player 1_hand',\n",
       " 'player_card_cairo_in_deck',\n",
       " 'player_card_cairo_in_player 0_hand',\n",
       " 'player_card_cairo_in_player 1_hand',\n",
       " 'player_card_chennai_in_deck',\n",
       " 'player_card_chennai_in_player 0_hand',\n",
       " 'player_card_chennai_in_player 1_hand',\n",
       " 'player_card_chicago_in_deck',\n",
       " 'player_card_chicago_in_player 0_hand',\n",
       " 'player_card_chicago_in_player 1_hand',\n",
       " 'player_card_delhi_in_deck',\n",
       " 'player_card_delhi_in_player 0_hand',\n",
       " 'player_card_delhi_in_player 1_hand',\n",
       " 'player_card_epidemic_0_in_deck',\n",
       " 'player_card_epidemic_0_in_player 0_hand',\n",
       " 'player_card_epidemic_0_in_player 1_hand',\n",
       " 'player_card_epidemic_1_in_deck',\n",
       " 'player_card_epidemic_1_in_player 0_hand',\n",
       " 'player_card_epidemic_1_in_player 1_hand',\n",
       " 'player_card_epidemic_2_in_deck',\n",
       " 'player_card_epidemic_2_in_player 0_hand',\n",
       " 'player_card_epidemic_2_in_player 1_hand',\n",
       " 'player_card_epidemic_3_in_deck',\n",
       " 'player_card_epidemic_3_in_player 0_hand',\n",
       " 'player_card_epidemic_3_in_player 1_hand',\n",
       " 'player_card_essen_in_deck',\n",
       " 'player_card_essen_in_player 0_hand',\n",
       " 'player_card_essen_in_player 1_hand',\n",
       " 'player_card_ho_chi_minh_city_in_deck',\n",
       " 'player_card_ho_chi_minh_city_in_player 0_hand',\n",
       " 'player_card_ho_chi_minh_city_in_player 1_hand',\n",
       " 'player_card_hong_kong_in_deck',\n",
       " 'player_card_hong_kong_in_player 0_hand',\n",
       " 'player_card_hong_kong_in_player 1_hand',\n",
       " 'player_card_istanbul_in_deck',\n",
       " 'player_card_istanbul_in_player 0_hand',\n",
       " 'player_card_istanbul_in_player 1_hand',\n",
       " 'player_card_jakarta_in_deck',\n",
       " 'player_card_jakarta_in_player 0_hand',\n",
       " 'player_card_jakarta_in_player 1_hand',\n",
       " 'player_card_johannesburg_in_deck',\n",
       " 'player_card_johannesburg_in_player 0_hand',\n",
       " 'player_card_johannesburg_in_player 1_hand',\n",
       " 'player_card_karachi_in_deck',\n",
       " 'player_card_karachi_in_player 0_hand',\n",
       " 'player_card_karachi_in_player 1_hand',\n",
       " 'player_card_khartoum_in_deck',\n",
       " 'player_card_khartoum_in_player 0_hand',\n",
       " 'player_card_khartoum_in_player 1_hand',\n",
       " 'player_card_kinshasa_in_deck',\n",
       " 'player_card_kinshasa_in_player 0_hand',\n",
       " 'player_card_kinshasa_in_player 1_hand',\n",
       " 'player_card_kolkata_in_deck',\n",
       " 'player_card_kolkata_in_player 0_hand',\n",
       " 'player_card_kolkata_in_player 1_hand',\n",
       " 'player_card_lagos_in_deck',\n",
       " 'player_card_lagos_in_player 0_hand',\n",
       " 'player_card_lagos_in_player 1_hand',\n",
       " 'player_card_lima_in_deck',\n",
       " 'player_card_lima_in_player 0_hand',\n",
       " 'player_card_lima_in_player 1_hand',\n",
       " 'player_card_london_in_deck',\n",
       " 'player_card_london_in_player 0_hand',\n",
       " 'player_card_london_in_player 1_hand',\n",
       " 'player_card_los_angeles_in_deck',\n",
       " 'player_card_los_angeles_in_player 0_hand',\n",
       " 'player_card_los_angeles_in_player 1_hand',\n",
       " 'player_card_madrid_in_deck',\n",
       " 'player_card_madrid_in_player 0_hand',\n",
       " 'player_card_madrid_in_player 1_hand',\n",
       " 'player_card_manila_in_deck',\n",
       " 'player_card_manila_in_player 0_hand',\n",
       " 'player_card_manila_in_player 1_hand',\n",
       " 'player_card_mexico_city_in_deck',\n",
       " 'player_card_mexico_city_in_player 0_hand',\n",
       " 'player_card_mexico_city_in_player 1_hand',\n",
       " 'player_card_miami_in_deck',\n",
       " 'player_card_miami_in_player 0_hand',\n",
       " 'player_card_miami_in_player 1_hand',\n",
       " 'player_card_milan_in_deck',\n",
       " 'player_card_milan_in_player 0_hand',\n",
       " 'player_card_milan_in_player 1_hand',\n",
       " 'player_card_montreal_in_deck',\n",
       " 'player_card_montreal_in_player 0_hand',\n",
       " 'player_card_montreal_in_player 1_hand',\n",
       " 'player_card_moscow_in_deck',\n",
       " 'player_card_moscow_in_player 0_hand',\n",
       " 'player_card_moscow_in_player 1_hand',\n",
       " 'player_card_mumbai_in_deck',\n",
       " 'player_card_mumbai_in_player 0_hand',\n",
       " 'player_card_mumbai_in_player 1_hand',\n",
       " 'player_card_new_york_in_deck',\n",
       " 'player_card_new_york_in_player 0_hand',\n",
       " 'player_card_new_york_in_player 1_hand',\n",
       " 'player_card_osaka_in_deck',\n",
       " 'player_card_osaka_in_player 0_hand',\n",
       " 'player_card_osaka_in_player 1_hand',\n",
       " 'player_card_paris_in_deck',\n",
       " 'player_card_paris_in_player 0_hand',\n",
       " 'player_card_paris_in_player 1_hand',\n",
       " 'player_card_riyadh_in_deck',\n",
       " 'player_card_riyadh_in_player 0_hand',\n",
       " 'player_card_riyadh_in_player 1_hand',\n",
       " 'player_card_san_francisco_in_deck',\n",
       " 'player_card_san_francisco_in_player 0_hand',\n",
       " 'player_card_san_francisco_in_player 1_hand',\n",
       " 'player_card_santiago_in_deck',\n",
       " 'player_card_santiago_in_player 0_hand',\n",
       " 'player_card_santiago_in_player 1_hand',\n",
       " 'player_card_sao_paolo_in_deck',\n",
       " 'player_card_sao_paolo_in_player 0_hand',\n",
       " 'player_card_sao_paolo_in_player 1_hand',\n",
       " 'player_card_seoul_in_deck',\n",
       " 'player_card_seoul_in_player 0_hand',\n",
       " 'player_card_seoul_in_player 1_hand',\n",
       " 'player_card_shanghai_in_deck',\n",
       " 'player_card_shanghai_in_player 0_hand',\n",
       " 'player_card_shanghai_in_player 1_hand',\n",
       " 'player_card_st_petersburg_in_deck',\n",
       " 'player_card_st_petersburg_in_player 0_hand',\n",
       " 'player_card_st_petersburg_in_player 1_hand',\n",
       " 'player_card_sydney_in_deck',\n",
       " 'player_card_sydney_in_player 0_hand',\n",
       " 'player_card_sydney_in_player 1_hand',\n",
       " 'player_card_taipei_in_deck',\n",
       " 'player_card_taipei_in_player 0_hand',\n",
       " 'player_card_taipei_in_player 1_hand',\n",
       " 'player_card_tehran_in_deck',\n",
       " 'player_card_tehran_in_player 0_hand',\n",
       " 'player_card_tehran_in_player 1_hand',\n",
       " 'player_card_tokyo_in_deck',\n",
       " 'player_card_tokyo_in_player 0_hand',\n",
       " 'player_card_tokyo_in_player 1_hand',\n",
       " 'player_card_washington_in_deck',\n",
       " 'player_card_washington_in_player 0_hand',\n",
       " 'player_card_washington_in_player 1_hand',\n",
       " 'research_station_algiers',\n",
       " 'research_station_atlanta',\n",
       " 'research_station_baghdad',\n",
       " 'research_station_bangkok',\n",
       " 'research_station_beijing',\n",
       " 'research_station_bogota',\n",
       " 'research_station_buenos_aires',\n",
       " 'research_station_cairo',\n",
       " 'research_station_chennai',\n",
       " 'research_station_chicago',\n",
       " 'research_station_delhi',\n",
       " 'research_station_essen',\n",
       " 'research_station_ho_chi_minh_city',\n",
       " 'research_station_hong_kong',\n",
       " 'research_station_istanbul',\n",
       " 'research_station_jakarta',\n",
       " 'research_station_johannesburg',\n",
       " 'research_station_karachi',\n",
       " 'research_station_khartoum',\n",
       " 'research_station_kinshasa',\n",
       " 'research_station_kolkata',\n",
       " 'research_station_lagos',\n",
       " 'research_station_lima',\n",
       " 'research_station_london',\n",
       " 'research_station_los_angeles',\n",
       " 'research_station_madrid',\n",
       " 'research_station_manila',\n",
       " 'research_station_mexico_city',\n",
       " 'research_station_miami',\n",
       " 'research_station_milan',\n",
       " 'research_station_montreal',\n",
       " 'research_station_moscow',\n",
       " 'research_station_mumbai',\n",
       " 'research_station_new_york',\n",
       " 'research_station_osaka',\n",
       " 'research_station_paris',\n",
       " 'research_station_riyadh',\n",
       " 'research_station_san_francisco',\n",
       " 'research_station_santiago',\n",
       " 'research_station_sao_paolo',\n",
       " 'research_station_seoul',\n",
       " 'research_station_shanghai',\n",
       " 'research_station_st_petersburg',\n",
       " 'research_station_sydney',\n",
       " 'research_station_taipei',\n",
       " 'research_station_tehran',\n",
       " 'research_station_tokyo',\n",
       " 'research_station_washington',\n",
       " 'total_diseases_cured']"
      ]
     },
     "execution_count": 13,
     "metadata": {},
     "output_type": "execute_result"
    }
   ],
   "source": [
    "df = my_game.state_df\n",
    "list(df.columns)"
   ]
  },
  {
   "cell_type": "code",
   "execution_count": 14,
   "metadata": {
    "ExecuteTime": {
     "end_time": "2020-07-31T20:41:04.180193Z",
     "start_time": "2020-07-31T20:41:04.173475Z"
    }
   },
   "outputs": [],
   "source": [
    "obs_space = my_game.create_observation_space()"
   ]
  },
  {
   "cell_type": "code",
   "execution_count": 15,
   "metadata": {
    "ExecuteTime": {
     "end_time": "2020-07-31T20:41:04.191413Z",
     "start_time": "2020-07-31T20:41:04.183549Z"
    }
   },
   "outputs": [
    {
     "data": {
      "text/plain": [
       "(416,)"
      ]
     },
     "execution_count": 15,
     "metadata": {},
     "output_type": "execute_result"
    }
   ],
   "source": [
    "obs_space.nvec.shape"
   ]
  },
  {
   "cell_type": "code",
   "execution_count": 16,
   "metadata": {
    "ExecuteTime": {
     "end_time": "2020-07-31T20:41:04.203473Z",
     "start_time": "2020-07-31T20:41:04.195440Z"
    }
   },
   "outputs": [],
   "source": [
    "obs_space = obs_space.nvec.tolist()"
   ]
  },
  {
   "cell_type": "code",
   "execution_count": 17,
   "metadata": {
    "ExecuteTime": {
     "end_time": "2020-07-31T20:41:04.210848Z",
     "start_time": "2020-07-31T20:41:04.207167Z"
    }
   },
   "outputs": [],
   "source": [
    "#list(zip(obs_space, observation_reset.tolist()[0]))"
   ]
  },
  {
   "cell_type": "code",
   "execution_count": 18,
   "metadata": {
    "ExecuteTime": {
     "end_time": "2020-07-31T20:41:04.226743Z",
     "start_time": "2020-07-31T20:41:04.214705Z"
    }
   },
   "outputs": [
    {
     "data": {
      "text/plain": [
       "MultiDiscrete([25 25 25 25  2  2  2  2  2  2  2  2  2  2  2  2  2  2  2  2  2  2  2  2\n",
       "  2  2  2  2  2  2  2  2  2  2  2  2  2  2  2  2  2  2  2  2  2  2  2  2\n",
       "  2  2  2  2  2  4  2  2  2  2  6  6  6  6  6  6  6  6  6  6  6  6  6  6\n",
       "  6  6  6  6  6  6  6  6  6  6  6  6  6  6  6  6  6  6  6  6  6  6  6  6\n",
       "  6  6  6  6  6  6  6  6  6  6  9  2  2  2  2  2  2  2  2  2  2  2  2  2\n",
       "  2  2  2  2  2  2  2  2  2  2  2  2  2  2  2  2  2  2  2  2  2  2  2  2\n",
       "  2  2  2  2  2  2  2  2  2  2  2  2  2  2  2  2  2  2  2  2  2  2  2  2\n",
       "  2  2  2  2  2  2  2  2  2  2  2  2  2  2  2  2  2  2  2  2  2  2  2  2\n",
       "  2  2  2  2  2  2  2  2  2  2  2  2  2  2  2  2  2  2  2  2  2  2  2  2\n",
       "  2  2  2  2  2  2  2  2  2  2  2  2  2  2  2  2  2  2  2  2  2  2  2  2\n",
       "  2  2  2  2  2  2  2  2  2  2  2  2  2  2  2  2  2  2  2  2  2  2  2  2\n",
       "  2  2  2  2  2  2  2  2  2  2  2  2  2  2  2  2  2  2  2  2  2  2  2  2\n",
       "  2  2  2  2  2  2  2  2  2  2  2  2  2  2  2  2  2  2  2  2  2  2  2  2\n",
       "  2  2  2  2  2  2  2  2  2  2  2  2  2  2  2  2  2  2  2  2  2  2  2  2\n",
       "  2  2  2  2  2  2  2  2  2  2  2  2  2  2  2  2  2  2  2  2  2  2  2  2\n",
       "  2  2  2  2  2  2  2  2  2  2  2  2  2  2  2  2  2  2  2  2  2  2  2  2\n",
       "  2  2  2  2  2  2  2  2  2  2  2  2  2  2  2  2  2  2  2  2  2  2  2  2\n",
       "  2  2  2  2  2  2  2  5])"
      ]
     },
     "execution_count": 18,
     "metadata": {},
     "output_type": "execute_result"
    }
   ],
   "source": [
    "my_game.create_observation_space()"
   ]
  },
  {
   "cell_type": "code",
   "execution_count": 25,
   "metadata": {
    "ExecuteTime": {
     "end_time": "2020-07-31T21:59:21.579391Z",
     "start_time": "2020-07-31T21:59:21.572765Z"
    }
   },
   "outputs": [
    {
     "data": {
      "text/plain": [
       "'City(chennai, black, 0 cubes)'"
      ]
     },
     "execution_count": 25,
     "metadata": {},
     "output_type": "execute_result"
    }
   ],
   "source": [
    "# str(my_game.current_player.current_city)\n",
    "start_city = my_game.city_dict['chennai']\n",
    "str(start_city)"
   ]
  },
  {
   "cell_type": "code",
   "execution_count": 26,
   "metadata": {
    "ExecuteTime": {
     "end_time": "2020-07-31T21:59:34.994682Z",
     "start_time": "2020-07-31T21:59:34.984787Z"
    }
   },
   "outputs": [
    {
     "data": {
      "text/plain": [
       "['PlayerCityCard(madrid, blue)',\n",
       " 'PlayerCityCard(new_york, blue)',\n",
       " 'PlayerCityCard(milan, blue)',\n",
       " 'PlayerCityCard(lima, yellow)',\n",
       " 'PlayerCityCard(chicago, blue)',\n",
       " 'PlayerCityCard(atlanta, blue)']"
      ]
     },
     "execution_count": 26,
     "metadata": {},
     "output_type": "execute_result"
    }
   ],
   "source": [
    "[str(x) for x in my_game.current_player.cards()]"
   ]
  },
  {
   "cell_type": "code",
   "execution_count": 27,
   "metadata": {
    "ExecuteTime": {
     "end_time": "2020-07-31T21:59:48.434946Z",
     "start_time": "2020-07-31T21:59:48.385331Z"
    },
    "scrolled": true
   },
   "outputs": [
    {
     "name": "stdout",
     "output_type": "stream",
     "text": [
      "loop\n",
      "City(chennai, black, 0 cubes)\n",
      "neighbors\n",
      "['City(kolkata, black, 0 cubes)', 'City(bangkok, red, 0 cubes)', 'City(jakarta, red, 0 cubes)', 'City(mumbai, black, 0 cubes)', 'City(delhi, black, 0 cubes)', 'City(madrid, blue, 3 cubes)', 'City(new_york, blue, 0 cubes)', 'City(milan, blue, 0 cubes)', 'City(lima, yellow, 0 cubes)', 'City(chicago, blue, 2 cubes)', 'City(atlanta, blue, 0 cubes)']\n",
      "neighbors 2\n",
      "['City(milan, blue, 0 cubes)', 'City(delhi, black, 0 cubes)', 'City(jakarta, red, 0 cubes)', 'City(madrid, blue, 3 cubes)', 'City(bangkok, red, 0 cubes)', 'City(new_york, blue, 0 cubes)', 'City(lima, yellow, 0 cubes)', 'City(atlanta, blue, 0 cubes)', 'City(kolkata, black, 0 cubes)', 'City(chicago, blue, 2 cubes)', 'City(mumbai, black, 0 cubes)']\n",
      "unvisited_queue\n",
      "[<city.City object at 0x7f9e9ba01fd0>, <city.City object at 0x7f9e9ba67850>, <city.City object at 0x7f9e9ba67a50>, <city.City object at 0x7f9e9ba01cd0>, <city.City object at 0x7f9e9ba679d0>, <city.City object at 0x7f9e9ba5c8d0>, <city.City object at 0x7f9e9ba01510>, <city.City object at 0x7f9e9ba01710>, <city.City object at 0x7f9e9ba67950>, <city.City object at 0x7f9e9ba5c190>, <city.City object at 0x7f9e9ba677d0>]\n",
      "visited_list\n",
      "['City(chennai, black, 0 cubes)']\n",
      "loop\n",
      "City(milan, blue, 0 cubes)\n",
      "neighbors\n",
      "['City(essen, blue, 0 cubes)', 'City(istanbul, black, 1 cubes)', 'City(paris, blue, 0 cubes)']\n",
      "neighbors 2\n",
      "['City(paris, blue, 0 cubes)', 'City(essen, blue, 0 cubes)', 'City(istanbul, black, 1 cubes)']\n",
      "unvisited_queue\n",
      "[<city.City object at 0x7f9e9ba67850>, <city.City object at 0x7f9e9ba67a50>, <city.City object at 0x7f9e9ba01cd0>, <city.City object at 0x7f9e9ba679d0>, <city.City object at 0x7f9e9ba5c8d0>, <city.City object at 0x7f9e9ba01510>, <city.City object at 0x7f9e9ba01710>, <city.City object at 0x7f9e9ba67950>, <city.City object at 0x7f9e9ba5c190>, <city.City object at 0x7f9e9ba677d0>, <city.City object at 0x7f9e9ba01590>, <city.City object at 0x7f9e9ba01090>, <city.City object at 0x7f9e9ba67450>]\n",
      "visited_list\n",
      "['City(chennai, black, 0 cubes)', 'City(milan, blue, 0 cubes)']\n",
      "loop\n",
      "City(delhi, black, 0 cubes)\n",
      "neighbors\n",
      "['City(kolkata, black, 0 cubes)', 'City(chennai, black, 0 cubes)', 'City(mumbai, black, 0 cubes)', 'City(karachi, black, 0 cubes)', 'City(tehran, black, 2 cubes)']\n",
      "neighbors 2\n",
      "['City(tehran, black, 2 cubes)', 'City(karachi, black, 0 cubes)']\n",
      "unvisited_queue\n",
      "[<city.City object at 0x7f9e9ba67a50>, <city.City object at 0x7f9e9ba01cd0>, <city.City object at 0x7f9e9ba679d0>, <city.City object at 0x7f9e9ba5c8d0>, <city.City object at 0x7f9e9ba01510>, <city.City object at 0x7f9e9ba01710>, <city.City object at 0x7f9e9ba67950>, <city.City object at 0x7f9e9ba5c190>, <city.City object at 0x7f9e9ba677d0>, <city.City object at 0x7f9e9ba01590>, <city.City object at 0x7f9e9ba01090>, <city.City object at 0x7f9e9ba67450>, <city.City object at 0x7f9e9ba676d0>, <city.City object at 0x7f9e9ba67750>]\n",
      "visited_list\n",
      "['City(chennai, black, 0 cubes)', 'City(milan, blue, 0 cubes)', 'City(delhi, black, 0 cubes)']\n",
      "loop\n",
      "City(jakarta, red, 0 cubes)\n",
      "neighbors\n",
      "['City(bangkok, red, 0 cubes)', 'City(ho_chi_minh_city, red, 0 cubes)', 'City(sydney, red, 1 cubes)', 'City(chennai, black, 0 cubes)']\n",
      "neighbors 2\n",
      "['City(ho_chi_minh_city, red, 0 cubes)', 'City(sydney, red, 1 cubes)']\n",
      "unvisited_queue\n",
      "[<city.City object at 0x7f9e9ba01cd0>, <city.City object at 0x7f9e9ba679d0>, <city.City object at 0x7f9e9ba5c8d0>, <city.City object at 0x7f9e9ba01510>, <city.City object at 0x7f9e9ba01710>, <city.City object at 0x7f9e9ba67950>, <city.City object at 0x7f9e9ba5c190>, <city.City object at 0x7f9e9ba677d0>, <city.City object at 0x7f9e9ba01590>, <city.City object at 0x7f9e9ba01090>, <city.City object at 0x7f9e9ba67450>, <city.City object at 0x7f9e9ba676d0>, <city.City object at 0x7f9e9ba67750>, <city.City object at 0x7f9e9ba67c50>, <city.City object at 0x7f9e9ba67e10>]\n",
      "visited_list\n",
      "['City(chennai, black, 0 cubes)', 'City(milan, blue, 0 cubes)', 'City(delhi, black, 0 cubes)', 'City(jakarta, red, 0 cubes)']\n",
      "loop\n",
      "City(madrid, blue, 3 cubes)\n",
      "neighbors\n",
      "['City(london, blue, 0 cubes)', 'City(paris, blue, 0 cubes)', 'City(algiers, black, 0 cubes)', 'City(sao_paolo, yellow, 0 cubes)', 'City(new_york, blue, 0 cubes)']\n",
      "neighbors 2\n",
      "['City(london, blue, 0 cubes)', 'City(sao_paolo, yellow, 0 cubes)', 'City(algiers, black, 0 cubes)']\n",
      "unvisited_queue\n",
      "[<city.City object at 0x7f9e9ba679d0>, <city.City object at 0x7f9e9ba5c8d0>, <city.City object at 0x7f9e9ba01510>, <city.City object at 0x7f9e9ba01710>, <city.City object at 0x7f9e9ba67950>, <city.City object at 0x7f9e9ba5c190>, <city.City object at 0x7f9e9ba677d0>, <city.City object at 0x7f9e9ba01590>, <city.City object at 0x7f9e9ba01090>, <city.City object at 0x7f9e9ba67450>, <city.City object at 0x7f9e9ba676d0>, <city.City object at 0x7f9e9ba67750>, <city.City object at 0x7f9e9ba67c50>, <city.City object at 0x7f9e9ba67e10>, <city.City object at 0x7f9e9ba01650>, <city.City object at 0x7f9e9ba670d0>, <city.City object at 0x7f9e9ba673d0>]\n",
      "visited_list\n",
      "['City(chennai, black, 0 cubes)', 'City(milan, blue, 0 cubes)', 'City(delhi, black, 0 cubes)', 'City(jakarta, red, 0 cubes)', 'City(madrid, blue, 3 cubes)']\n",
      "loop\n",
      "City(bangkok, red, 0 cubes)\n",
      "neighbors\n",
      "['City(hong_kong, red, 0 cubes)', 'City(ho_chi_minh_city, red, 0 cubes)', 'City(jakarta, red, 0 cubes)', 'City(chennai, black, 0 cubes)', 'City(kolkata, black, 0 cubes)']\n",
      "neighbors 2\n",
      "['City(hong_kong, red, 0 cubes)']\n",
      "unvisited_queue\n",
      "[<city.City object at 0x7f9e9ba5c8d0>, <city.City object at 0x7f9e9ba01510>, <city.City object at 0x7f9e9ba01710>, <city.City object at 0x7f9e9ba67950>, <city.City object at 0x7f9e9ba5c190>, <city.City object at 0x7f9e9ba677d0>, <city.City object at 0x7f9e9ba01590>, <city.City object at 0x7f9e9ba01090>, <city.City object at 0x7f9e9ba67450>, <city.City object at 0x7f9e9ba676d0>, <city.City object at 0x7f9e9ba67750>, <city.City object at 0x7f9e9ba67c50>, <city.City object at 0x7f9e9ba67e10>, <city.City object at 0x7f9e9ba01650>, <city.City object at 0x7f9e9ba670d0>, <city.City object at 0x7f9e9ba673d0>, <city.City object at 0x7f9e9ba67bd0>]\n",
      "visited_list\n",
      "['City(chennai, black, 0 cubes)', 'City(milan, blue, 0 cubes)', 'City(delhi, black, 0 cubes)', 'City(jakarta, red, 0 cubes)', 'City(madrid, blue, 3 cubes)', 'City(bangkok, red, 0 cubes)']\n",
      "loop\n",
      "City(new_york, blue, 0 cubes)\n",
      "neighbors\n",
      "['City(london, blue, 0 cubes)', 'City(madrid, blue, 3 cubes)', 'City(washington, blue, 0 cubes)', 'City(montreal, blue, 1 cubes)']\n",
      "neighbors 2\n",
      "['City(montreal, blue, 1 cubes)', 'City(washington, blue, 0 cubes)']\n",
      "unvisited_queue\n",
      "[<city.City object at 0x7f9e9ba01510>, <city.City object at 0x7f9e9ba01710>, <city.City object at 0x7f9e9ba67950>, <city.City object at 0x7f9e9ba5c190>, <city.City object at 0x7f9e9ba677d0>, <city.City object at 0x7f9e9ba01590>, <city.City object at 0x7f9e9ba01090>, <city.City object at 0x7f9e9ba67450>, <city.City object at 0x7f9e9ba676d0>, <city.City object at 0x7f9e9ba67750>, <city.City object at 0x7f9e9ba67c50>, <city.City object at 0x7f9e9ba67e10>, <city.City object at 0x7f9e9ba01650>, <city.City object at 0x7f9e9ba670d0>, <city.City object at 0x7f9e9ba673d0>, <city.City object at 0x7f9e9ba67bd0>, <city.City object at 0x7f9e9ba5c890>, <city.City object at 0x7f9e9ba01ad0>]\n",
      "visited_list\n",
      "['City(chennai, black, 0 cubes)', 'City(milan, blue, 0 cubes)', 'City(delhi, black, 0 cubes)', 'City(jakarta, red, 0 cubes)', 'City(madrid, blue, 3 cubes)', 'City(bangkok, red, 0 cubes)', 'City(new_york, blue, 0 cubes)']\n",
      "loop\n",
      "City(lima, yellow, 0 cubes)\n",
      "neighbors\n",
      "['City(bogota, yellow, 2 cubes)', 'City(santiago, yellow, 0 cubes)', 'City(mexico_city, yellow, 0 cubes)']\n",
      "neighbors 2\n",
      "['City(santiago, yellow, 0 cubes)', 'City(mexico_city, yellow, 0 cubes)', 'City(bogota, yellow, 2 cubes)']\n",
      "unvisited_queue\n",
      "[<city.City object at 0x7f9e9ba01710>, <city.City object at 0x7f9e9ba67950>, <city.City object at 0x7f9e9ba5c190>, <city.City object at 0x7f9e9ba677d0>, <city.City object at 0x7f9e9ba01590>, <city.City object at 0x7f9e9ba01090>, <city.City object at 0x7f9e9ba67450>, <city.City object at 0x7f9e9ba676d0>, <city.City object at 0x7f9e9ba67750>, <city.City object at 0x7f9e9ba67c50>, <city.City object at 0x7f9e9ba67e10>, <city.City object at 0x7f9e9ba01650>, <city.City object at 0x7f9e9ba670d0>, <city.City object at 0x7f9e9ba673d0>, <city.City object at 0x7f9e9ba67bd0>, <city.City object at 0x7f9e9ba5c890>, <city.City object at 0x7f9e9ba01ad0>, <city.City object at 0x7f9e9ba67050>, <city.City object at 0x7f9e9ba015d0>, <city.City object at 0x7f9e9ba01350>]\n",
      "visited_list\n",
      "['City(chennai, black, 0 cubes)', 'City(milan, blue, 0 cubes)', 'City(delhi, black, 0 cubes)', 'City(jakarta, red, 0 cubes)', 'City(madrid, blue, 3 cubes)', 'City(bangkok, red, 0 cubes)', 'City(new_york, blue, 0 cubes)', 'City(lima, yellow, 0 cubes)']\n",
      "loop\n",
      "City(atlanta, blue, 0 cubes)\n",
      "neighbors\n",
      "['City(washington, blue, 0 cubes)', 'City(miami, yellow, 0 cubes)', 'City(chicago, blue, 2 cubes)', 'City(atlanta, blue, 0 cubes)']\n",
      "neighbors 2\n",
      "['City(miami, yellow, 0 cubes)']\n",
      "unvisited_queue\n",
      "[<city.City object at 0x7f9e9ba67950>, <city.City object at 0x7f9e9ba5c190>, <city.City object at 0x7f9e9ba677d0>, <city.City object at 0x7f9e9ba01590>, <city.City object at 0x7f9e9ba01090>, <city.City object at 0x7f9e9ba67450>, <city.City object at 0x7f9e9ba676d0>, <city.City object at 0x7f9e9ba67750>, <city.City object at 0x7f9e9ba67c50>, <city.City object at 0x7f9e9ba67e10>, <city.City object at 0x7f9e9ba01650>, <city.City object at 0x7f9e9ba670d0>, <city.City object at 0x7f9e9ba673d0>, <city.City object at 0x7f9e9ba67bd0>, <city.City object at 0x7f9e9ba5c890>, <city.City object at 0x7f9e9ba01ad0>, <city.City object at 0x7f9e9ba67050>, <city.City object at 0x7f9e9ba015d0>, <city.City object at 0x7f9e9ba01350>, <city.City object at 0x7f9e9ba01c10>]\n",
      "visited_list\n",
      "['City(chennai, black, 0 cubes)', 'City(milan, blue, 0 cubes)', 'City(delhi, black, 0 cubes)', 'City(jakarta, red, 0 cubes)', 'City(madrid, blue, 3 cubes)', 'City(bangkok, red, 0 cubes)', 'City(new_york, blue, 0 cubes)', 'City(lima, yellow, 0 cubes)', 'City(atlanta, blue, 0 cubes)']\n",
      "loop\n",
      "City(kolkata, black, 0 cubes)\n",
      "neighbors\n",
      "['City(hong_kong, red, 0 cubes)', 'City(bangkok, red, 0 cubes)', 'City(chennai, black, 0 cubes)', 'City(delhi, black, 0 cubes)']\n",
      "neighbors 2\n",
      "[]\n",
      "unvisited_queue\n",
      "[<city.City object at 0x7f9e9ba5c190>, <city.City object at 0x7f9e9ba677d0>, <city.City object at 0x7f9e9ba01590>, <city.City object at 0x7f9e9ba01090>, <city.City object at 0x7f9e9ba67450>, <city.City object at 0x7f9e9ba676d0>, <city.City object at 0x7f9e9ba67750>, <city.City object at 0x7f9e9ba67c50>, <city.City object at 0x7f9e9ba67e10>, <city.City object at 0x7f9e9ba01650>, <city.City object at 0x7f9e9ba670d0>, <city.City object at 0x7f9e9ba673d0>, <city.City object at 0x7f9e9ba67bd0>, <city.City object at 0x7f9e9ba5c890>, <city.City object at 0x7f9e9ba01ad0>, <city.City object at 0x7f9e9ba67050>, <city.City object at 0x7f9e9ba015d0>, <city.City object at 0x7f9e9ba01350>, <city.City object at 0x7f9e9ba01c10>]\n",
      "visited_list\n",
      "['City(chennai, black, 0 cubes)', 'City(milan, blue, 0 cubes)', 'City(delhi, black, 0 cubes)', 'City(jakarta, red, 0 cubes)', 'City(madrid, blue, 3 cubes)', 'City(bangkok, red, 0 cubes)', 'City(new_york, blue, 0 cubes)', 'City(lima, yellow, 0 cubes)', 'City(atlanta, blue, 0 cubes)', 'City(kolkata, black, 0 cubes)']\n",
      "loop\n",
      "City(chicago, blue, 2 cubes)\n",
      "neighbors\n",
      "['City(montreal, blue, 1 cubes)', 'City(atlanta, blue, 0 cubes)', 'City(mexico_city, yellow, 0 cubes)', 'City(los_angeles, yellow, 0 cubes)', 'City(san_francisco, blue, 0 cubes)']\n",
      "neighbors 2\n",
      "['City(san_francisco, blue, 0 cubes)', 'City(los_angeles, yellow, 0 cubes)']\n",
      "unvisited_queue\n",
      "[<city.City object at 0x7f9e9ba677d0>, <city.City object at 0x7f9e9ba01590>, <city.City object at 0x7f9e9ba01090>, <city.City object at 0x7f9e9ba67450>, <city.City object at 0x7f9e9ba676d0>, <city.City object at 0x7f9e9ba67750>, <city.City object at 0x7f9e9ba67c50>, <city.City object at 0x7f9e9ba67e10>, <city.City object at 0x7f9e9ba01650>, <city.City object at 0x7f9e9ba670d0>, <city.City object at 0x7f9e9ba673d0>, <city.City object at 0x7f9e9ba67bd0>, <city.City object at 0x7f9e9ba5c890>, <city.City object at 0x7f9e9ba01ad0>, <city.City object at 0x7f9e9ba67050>, <city.City object at 0x7f9e9ba015d0>, <city.City object at 0x7f9e9ba01350>, <city.City object at 0x7f9e9ba01c10>, <city.City object at 0x7f9e9ba01e10>, <city.City object at 0x7f9e9ba018d0>]\n",
      "visited_list\n",
      "['City(chennai, black, 0 cubes)', 'City(milan, blue, 0 cubes)', 'City(delhi, black, 0 cubes)', 'City(jakarta, red, 0 cubes)', 'City(madrid, blue, 3 cubes)', 'City(bangkok, red, 0 cubes)', 'City(new_york, blue, 0 cubes)', 'City(lima, yellow, 0 cubes)', 'City(atlanta, blue, 0 cubes)', 'City(kolkata, black, 0 cubes)', 'City(chicago, blue, 2 cubes)']\n",
      "loop\n",
      "City(mumbai, black, 0 cubes)\n",
      "neighbors\n",
      "['City(delhi, black, 0 cubes)', 'City(chennai, black, 0 cubes)', 'City(karachi, black, 0 cubes)']\n",
      "neighbors 2\n",
      "[]\n",
      "unvisited_queue\n",
      "[<city.City object at 0x7f9e9ba01590>, <city.City object at 0x7f9e9ba01090>, <city.City object at 0x7f9e9ba67450>, <city.City object at 0x7f9e9ba676d0>, <city.City object at 0x7f9e9ba67750>, <city.City object at 0x7f9e9ba67c50>, <city.City object at 0x7f9e9ba67e10>, <city.City object at 0x7f9e9ba01650>, <city.City object at 0x7f9e9ba670d0>, <city.City object at 0x7f9e9ba673d0>, <city.City object at 0x7f9e9ba67bd0>, <city.City object at 0x7f9e9ba5c890>, <city.City object at 0x7f9e9ba01ad0>, <city.City object at 0x7f9e9ba67050>, <city.City object at 0x7f9e9ba015d0>, <city.City object at 0x7f9e9ba01350>, <city.City object at 0x7f9e9ba01c10>, <city.City object at 0x7f9e9ba01e10>, <city.City object at 0x7f9e9ba018d0>]\n",
      "visited_list\n",
      "['City(chennai, black, 0 cubes)', 'City(milan, blue, 0 cubes)', 'City(delhi, black, 0 cubes)', 'City(jakarta, red, 0 cubes)', 'City(madrid, blue, 3 cubes)', 'City(bangkok, red, 0 cubes)', 'City(new_york, blue, 0 cubes)', 'City(lima, yellow, 0 cubes)', 'City(atlanta, blue, 0 cubes)', 'City(kolkata, black, 0 cubes)', 'City(chicago, blue, 2 cubes)', 'City(mumbai, black, 0 cubes)']\n",
      "loop\n",
      "City(paris, blue, 0 cubes)\n",
      "neighbors\n",
      "['City(essen, blue, 0 cubes)', 'City(milan, blue, 0 cubes)', 'City(algiers, black, 0 cubes)', 'City(madrid, blue, 3 cubes)', 'City(london, blue, 0 cubes)']\n",
      "neighbors 2\n",
      "[]\n",
      "unvisited_queue\n",
      "[<city.City object at 0x7f9e9ba01090>, <city.City object at 0x7f9e9ba67450>, <city.City object at 0x7f9e9ba676d0>, <city.City object at 0x7f9e9ba67750>, <city.City object at 0x7f9e9ba67c50>, <city.City object at 0x7f9e9ba67e10>, <city.City object at 0x7f9e9ba01650>, <city.City object at 0x7f9e9ba670d0>, <city.City object at 0x7f9e9ba673d0>, <city.City object at 0x7f9e9ba67bd0>, <city.City object at 0x7f9e9ba5c890>, <city.City object at 0x7f9e9ba01ad0>, <city.City object at 0x7f9e9ba67050>, <city.City object at 0x7f9e9ba015d0>, <city.City object at 0x7f9e9ba01350>, <city.City object at 0x7f9e9ba01c10>, <city.City object at 0x7f9e9ba01e10>, <city.City object at 0x7f9e9ba018d0>]\n",
      "visited_list\n",
      "['City(chennai, black, 0 cubes)', 'City(milan, blue, 0 cubes)', 'City(delhi, black, 0 cubes)', 'City(jakarta, red, 0 cubes)', 'City(madrid, blue, 3 cubes)', 'City(bangkok, red, 0 cubes)', 'City(new_york, blue, 0 cubes)', 'City(lima, yellow, 0 cubes)', 'City(atlanta, blue, 0 cubes)', 'City(kolkata, black, 0 cubes)', 'City(chicago, blue, 2 cubes)', 'City(mumbai, black, 0 cubes)', 'City(paris, blue, 0 cubes)']\n",
      "loop\n",
      "City(essen, blue, 0 cubes)\n",
      "neighbors\n",
      "['City(st_petersburg, blue, 0 cubes)', 'City(milan, blue, 0 cubes)', 'City(paris, blue, 0 cubes)', 'City(london, blue, 0 cubes)']\n",
      "neighbors 2\n",
      "['City(st_petersburg, blue, 0 cubes)']\n",
      "unvisited_queue\n",
      "[<city.City object at 0x7f9e9ba67450>, <city.City object at 0x7f9e9ba676d0>, <city.City object at 0x7f9e9ba67750>, <city.City object at 0x7f9e9ba67c50>, <city.City object at 0x7f9e9ba67e10>, <city.City object at 0x7f9e9ba01650>, <city.City object at 0x7f9e9ba670d0>, <city.City object at 0x7f9e9ba673d0>, <city.City object at 0x7f9e9ba67bd0>, <city.City object at 0x7f9e9ba5c890>, <city.City object at 0x7f9e9ba01ad0>, <city.City object at 0x7f9e9ba67050>, <city.City object at 0x7f9e9ba015d0>, <city.City object at 0x7f9e9ba01350>, <city.City object at 0x7f9e9ba01c10>, <city.City object at 0x7f9e9ba01e10>, <city.City object at 0x7f9e9ba018d0>, <city.City object at 0x7f9e9ba01910>]\n",
      "visited_list\n",
      "['City(chennai, black, 0 cubes)', 'City(milan, blue, 0 cubes)', 'City(delhi, black, 0 cubes)', 'City(jakarta, red, 0 cubes)', 'City(madrid, blue, 3 cubes)', 'City(bangkok, red, 0 cubes)', 'City(new_york, blue, 0 cubes)', 'City(lima, yellow, 0 cubes)', 'City(atlanta, blue, 0 cubes)', 'City(kolkata, black, 0 cubes)', 'City(chicago, blue, 2 cubes)', 'City(mumbai, black, 0 cubes)', 'City(paris, blue, 0 cubes)', 'City(essen, blue, 0 cubes)']\n",
      "loop\n",
      "City(istanbul, black, 1 cubes)\n",
      "neighbors\n",
      "['City(st_petersburg, blue, 0 cubes)', 'City(moscow, black, 0 cubes)', 'City(baghdad, black, 0 cubes)', 'City(cairo, black, 0 cubes)', 'City(algiers, black, 0 cubes)', 'City(milan, blue, 0 cubes)']\n",
      "neighbors 2\n",
      "['City(baghdad, black, 0 cubes)', 'City(cairo, black, 0 cubes)', 'City(moscow, black, 0 cubes)']\n",
      "unvisited_queue\n",
      "[<city.City object at 0x7f9e9ba676d0>, <city.City object at 0x7f9e9ba67750>, <city.City object at 0x7f9e9ba67c50>, <city.City object at 0x7f9e9ba67e10>, <city.City object at 0x7f9e9ba01650>, <city.City object at 0x7f9e9ba670d0>, <city.City object at 0x7f9e9ba673d0>, <city.City object at 0x7f9e9ba67bd0>, <city.City object at 0x7f9e9ba5c890>, <city.City object at 0x7f9e9ba01ad0>, <city.City object at 0x7f9e9ba67050>, <city.City object at 0x7f9e9ba015d0>, <city.City object at 0x7f9e9ba01350>, <city.City object at 0x7f9e9ba01c10>, <city.City object at 0x7f9e9ba01e10>, <city.City object at 0x7f9e9ba018d0>, <city.City object at 0x7f9e9ba01910>, <city.City object at 0x7f9e9ba675d0>, <city.City object at 0x7f9e9ba674d0>, <city.City object at 0x7f9e9ba67550>]\n",
      "visited_list\n",
      "['City(chennai, black, 0 cubes)', 'City(milan, blue, 0 cubes)', 'City(delhi, black, 0 cubes)', 'City(jakarta, red, 0 cubes)', 'City(madrid, blue, 3 cubes)', 'City(bangkok, red, 0 cubes)', 'City(new_york, blue, 0 cubes)', 'City(lima, yellow, 0 cubes)', 'City(atlanta, blue, 0 cubes)', 'City(kolkata, black, 0 cubes)', 'City(chicago, blue, 2 cubes)', 'City(mumbai, black, 0 cubes)', 'City(paris, blue, 0 cubes)', 'City(essen, blue, 0 cubes)', 'City(istanbul, black, 1 cubes)']\n",
      "loop\n",
      "City(tehran, black, 2 cubes)\n",
      "neighbors\n",
      "['City(delhi, black, 0 cubes)', 'City(karachi, black, 0 cubes)', 'City(baghdad, black, 0 cubes)', 'City(moscow, black, 0 cubes)']\n",
      "neighbors 2\n",
      "[]\n",
      "unvisited_queue\n",
      "[<city.City object at 0x7f9e9ba67750>, <city.City object at 0x7f9e9ba67c50>, <city.City object at 0x7f9e9ba67e10>, <city.City object at 0x7f9e9ba01650>, <city.City object at 0x7f9e9ba670d0>, <city.City object at 0x7f9e9ba673d0>, <city.City object at 0x7f9e9ba67bd0>, <city.City object at 0x7f9e9ba5c890>, <city.City object at 0x7f9e9ba01ad0>, <city.City object at 0x7f9e9ba67050>, <city.City object at 0x7f9e9ba015d0>, <city.City object at 0x7f9e9ba01350>, <city.City object at 0x7f9e9ba01c10>, <city.City object at 0x7f9e9ba01e10>, <city.City object at 0x7f9e9ba018d0>, <city.City object at 0x7f9e9ba01910>, <city.City object at 0x7f9e9ba675d0>, <city.City object at 0x7f9e9ba674d0>, <city.City object at 0x7f9e9ba67550>]\n",
      "visited_list\n",
      "['City(chennai, black, 0 cubes)', 'City(milan, blue, 0 cubes)', 'City(delhi, black, 0 cubes)', 'City(jakarta, red, 0 cubes)', 'City(madrid, blue, 3 cubes)', 'City(bangkok, red, 0 cubes)', 'City(new_york, blue, 0 cubes)', 'City(lima, yellow, 0 cubes)', 'City(atlanta, blue, 0 cubes)', 'City(kolkata, black, 0 cubes)', 'City(chicago, blue, 2 cubes)', 'City(mumbai, black, 0 cubes)', 'City(paris, blue, 0 cubes)', 'City(essen, blue, 0 cubes)', 'City(istanbul, black, 1 cubes)', 'City(tehran, black, 2 cubes)']\n",
      "loop\n",
      "City(karachi, black, 0 cubes)\n",
      "neighbors\n",
      "['City(delhi, black, 0 cubes)', 'City(mumbai, black, 0 cubes)', 'City(riyadh, black, 0 cubes)', 'City(baghdad, black, 0 cubes)', 'City(tehran, black, 2 cubes)']\n",
      "neighbors 2\n",
      "['City(riyadh, black, 0 cubes)']\n",
      "unvisited_queue\n",
      "[<city.City object at 0x7f9e9ba67c50>, <city.City object at 0x7f9e9ba67e10>, <city.City object at 0x7f9e9ba01650>, <city.City object at 0x7f9e9ba670d0>, <city.City object at 0x7f9e9ba673d0>, <city.City object at 0x7f9e9ba67bd0>, <city.City object at 0x7f9e9ba5c890>, <city.City object at 0x7f9e9ba01ad0>, <city.City object at 0x7f9e9ba67050>, <city.City object at 0x7f9e9ba015d0>, <city.City object at 0x7f9e9ba01350>, <city.City object at 0x7f9e9ba01c10>, <city.City object at 0x7f9e9ba01e10>, <city.City object at 0x7f9e9ba018d0>, <city.City object at 0x7f9e9ba01910>, <city.City object at 0x7f9e9ba675d0>, <city.City object at 0x7f9e9ba674d0>, <city.City object at 0x7f9e9ba67550>, <city.City object at 0x7f9e9ba67650>]\n",
      "visited_list\n",
      "['City(chennai, black, 0 cubes)', 'City(milan, blue, 0 cubes)', 'City(delhi, black, 0 cubes)', 'City(jakarta, red, 0 cubes)', 'City(madrid, blue, 3 cubes)', 'City(bangkok, red, 0 cubes)', 'City(new_york, blue, 0 cubes)', 'City(lima, yellow, 0 cubes)', 'City(atlanta, blue, 0 cubes)', 'City(kolkata, black, 0 cubes)', 'City(chicago, blue, 2 cubes)', 'City(mumbai, black, 0 cubes)', 'City(paris, blue, 0 cubes)', 'City(essen, blue, 0 cubes)', 'City(istanbul, black, 1 cubes)', 'City(tehran, black, 2 cubes)', 'City(karachi, black, 0 cubes)']\n",
      "loop\n",
      "City(ho_chi_minh_city, red, 0 cubes)\n",
      "neighbors\n",
      "['City(hong_kong, red, 0 cubes)', 'City(manila, red, 0 cubes)', 'City(jakarta, red, 0 cubes)', 'City(bangkok, red, 0 cubes)']\n",
      "neighbors 2\n",
      "['City(manila, red, 0 cubes)']\n",
      "unvisited_queue\n",
      "[<city.City object at 0x7f9e9ba67e10>, <city.City object at 0x7f9e9ba01650>, <city.City object at 0x7f9e9ba670d0>, <city.City object at 0x7f9e9ba673d0>, <city.City object at 0x7f9e9ba67bd0>, <city.City object at 0x7f9e9ba5c890>, <city.City object at 0x7f9e9ba01ad0>, <city.City object at 0x7f9e9ba67050>, <city.City object at 0x7f9e9ba015d0>, <city.City object at 0x7f9e9ba01350>, <city.City object at 0x7f9e9ba01c10>, <city.City object at 0x7f9e9ba01e10>, <city.City object at 0x7f9e9ba018d0>, <city.City object at 0x7f9e9ba01910>, <city.City object at 0x7f9e9ba675d0>, <city.City object at 0x7f9e9ba674d0>, <city.City object at 0x7f9e9ba67550>, <city.City object at 0x7f9e9ba67650>, <city.City object at 0x7f9e9ba67d90>]\n",
      "visited_list\n",
      "['City(chennai, black, 0 cubes)', 'City(milan, blue, 0 cubes)', 'City(delhi, black, 0 cubes)', 'City(jakarta, red, 0 cubes)', 'City(madrid, blue, 3 cubes)', 'City(bangkok, red, 0 cubes)', 'City(new_york, blue, 0 cubes)', 'City(lima, yellow, 0 cubes)', 'City(atlanta, blue, 0 cubes)', 'City(kolkata, black, 0 cubes)', 'City(chicago, blue, 2 cubes)', 'City(mumbai, black, 0 cubes)', 'City(paris, blue, 0 cubes)', 'City(essen, blue, 0 cubes)', 'City(istanbul, black, 1 cubes)', 'City(tehran, black, 2 cubes)', 'City(karachi, black, 0 cubes)', 'City(ho_chi_minh_city, red, 0 cubes)']\n",
      "loop\n",
      "City(sydney, red, 1 cubes)\n",
      "neighbors\n",
      "['City(los_angeles, yellow, 0 cubes)', 'City(jakarta, red, 0 cubes)', 'City(manila, red, 0 cubes)']\n",
      "neighbors 2\n",
      "[]\n",
      "unvisited_queue\n",
      "[<city.City object at 0x7f9e9ba01650>, <city.City object at 0x7f9e9ba670d0>, <city.City object at 0x7f9e9ba673d0>, <city.City object at 0x7f9e9ba67bd0>, <city.City object at 0x7f9e9ba5c890>, <city.City object at 0x7f9e9ba01ad0>, <city.City object at 0x7f9e9ba67050>, <city.City object at 0x7f9e9ba015d0>, <city.City object at 0x7f9e9ba01350>, <city.City object at 0x7f9e9ba01c10>, <city.City object at 0x7f9e9ba01e10>, <city.City object at 0x7f9e9ba018d0>, <city.City object at 0x7f9e9ba01910>, <city.City object at 0x7f9e9ba675d0>, <city.City object at 0x7f9e9ba674d0>, <city.City object at 0x7f9e9ba67550>, <city.City object at 0x7f9e9ba67650>, <city.City object at 0x7f9e9ba67d90>]\n",
      "visited_list\n",
      "['City(chennai, black, 0 cubes)', 'City(milan, blue, 0 cubes)', 'City(delhi, black, 0 cubes)', 'City(jakarta, red, 0 cubes)', 'City(madrid, blue, 3 cubes)', 'City(bangkok, red, 0 cubes)', 'City(new_york, blue, 0 cubes)', 'City(lima, yellow, 0 cubes)', 'City(atlanta, blue, 0 cubes)', 'City(kolkata, black, 0 cubes)', 'City(chicago, blue, 2 cubes)', 'City(mumbai, black, 0 cubes)', 'City(paris, blue, 0 cubes)', 'City(essen, blue, 0 cubes)', 'City(istanbul, black, 1 cubes)', 'City(tehran, black, 2 cubes)', 'City(karachi, black, 0 cubes)', 'City(ho_chi_minh_city, red, 0 cubes)', 'City(sydney, red, 1 cubes)']\n",
      "loop\n",
      "City(london, blue, 0 cubes)\n",
      "neighbors\n",
      "['City(essen, blue, 0 cubes)', 'City(paris, blue, 0 cubes)', 'City(madrid, blue, 3 cubes)', 'City(new_york, blue, 0 cubes)']\n",
      "neighbors 2\n",
      "[]\n",
      "unvisited_queue\n",
      "[<city.City object at 0x7f9e9ba670d0>, <city.City object at 0x7f9e9ba673d0>, <city.City object at 0x7f9e9ba67bd0>, <city.City object at 0x7f9e9ba5c890>, <city.City object at 0x7f9e9ba01ad0>, <city.City object at 0x7f9e9ba67050>, <city.City object at 0x7f9e9ba015d0>, <city.City object at 0x7f9e9ba01350>, <city.City object at 0x7f9e9ba01c10>, <city.City object at 0x7f9e9ba01e10>, <city.City object at 0x7f9e9ba018d0>, <city.City object at 0x7f9e9ba01910>, <city.City object at 0x7f9e9ba675d0>, <city.City object at 0x7f9e9ba674d0>, <city.City object at 0x7f9e9ba67550>, <city.City object at 0x7f9e9ba67650>, <city.City object at 0x7f9e9ba67d90>]\n",
      "visited_list\n",
      "['City(chennai, black, 0 cubes)', 'City(milan, blue, 0 cubes)', 'City(delhi, black, 0 cubes)', 'City(jakarta, red, 0 cubes)', 'City(madrid, blue, 3 cubes)', 'City(bangkok, red, 0 cubes)', 'City(new_york, blue, 0 cubes)', 'City(lima, yellow, 0 cubes)', 'City(atlanta, blue, 0 cubes)', 'City(kolkata, black, 0 cubes)', 'City(chicago, blue, 2 cubes)', 'City(mumbai, black, 0 cubes)', 'City(paris, blue, 0 cubes)', 'City(essen, blue, 0 cubes)', 'City(istanbul, black, 1 cubes)', 'City(tehran, black, 2 cubes)', 'City(karachi, black, 0 cubes)', 'City(ho_chi_minh_city, red, 0 cubes)', 'City(sydney, red, 1 cubes)', 'City(london, blue, 0 cubes)']\n",
      "loop\n",
      "City(sao_paolo, yellow, 0 cubes)\n",
      "neighbors\n",
      "['City(madrid, blue, 3 cubes)', 'City(lagos, yellow, 0 cubes)', 'City(buenos_aires, yellow, 0 cubes)', 'City(bogota, yellow, 2 cubes)']\n",
      "neighbors 2\n",
      "['City(lagos, yellow, 0 cubes)', 'City(buenos_aires, yellow, 0 cubes)']\n",
      "unvisited_queue\n",
      "[<city.City object at 0x7f9e9ba673d0>, <city.City object at 0x7f9e9ba67bd0>, <city.City object at 0x7f9e9ba5c890>, <city.City object at 0x7f9e9ba01ad0>, <city.City object at 0x7f9e9ba67050>, <city.City object at 0x7f9e9ba015d0>, <city.City object at 0x7f9e9ba01350>, <city.City object at 0x7f9e9ba01c10>, <city.City object at 0x7f9e9ba01e10>, <city.City object at 0x7f9e9ba018d0>, <city.City object at 0x7f9e9ba01910>, <city.City object at 0x7f9e9ba675d0>, <city.City object at 0x7f9e9ba674d0>, <city.City object at 0x7f9e9ba67550>, <city.City object at 0x7f9e9ba67650>, <city.City object at 0x7f9e9ba67d90>, <city.City object at 0x7f9e9ba671d0>, <city.City object at 0x7f9e9ba67150>]\n",
      "visited_list\n",
      "['City(chennai, black, 0 cubes)', 'City(milan, blue, 0 cubes)', 'City(delhi, black, 0 cubes)', 'City(jakarta, red, 0 cubes)', 'City(madrid, blue, 3 cubes)', 'City(bangkok, red, 0 cubes)', 'City(new_york, blue, 0 cubes)', 'City(lima, yellow, 0 cubes)', 'City(atlanta, blue, 0 cubes)', 'City(kolkata, black, 0 cubes)', 'City(chicago, blue, 2 cubes)', 'City(mumbai, black, 0 cubes)', 'City(paris, blue, 0 cubes)', 'City(essen, blue, 0 cubes)', 'City(istanbul, black, 1 cubes)', 'City(tehran, black, 2 cubes)', 'City(karachi, black, 0 cubes)', 'City(ho_chi_minh_city, red, 0 cubes)', 'City(sydney, red, 1 cubes)', 'City(london, blue, 0 cubes)', 'City(sao_paolo, yellow, 0 cubes)']\n",
      "loop\n",
      "City(algiers, black, 0 cubes)\n",
      "neighbors\n",
      "['City(istanbul, black, 1 cubes)', 'City(cairo, black, 0 cubes)', 'City(madrid, blue, 3 cubes)', 'City(paris, blue, 0 cubes)']\n",
      "neighbors 2\n",
      "[]\n",
      "unvisited_queue\n",
      "[<city.City object at 0x7f9e9ba67bd0>, <city.City object at 0x7f9e9ba5c890>, <city.City object at 0x7f9e9ba01ad0>, <city.City object at 0x7f9e9ba67050>, <city.City object at 0x7f9e9ba015d0>, <city.City object at 0x7f9e9ba01350>, <city.City object at 0x7f9e9ba01c10>, <city.City object at 0x7f9e9ba01e10>, <city.City object at 0x7f9e9ba018d0>, <city.City object at 0x7f9e9ba01910>, <city.City object at 0x7f9e9ba675d0>, <city.City object at 0x7f9e9ba674d0>, <city.City object at 0x7f9e9ba67550>, <city.City object at 0x7f9e9ba67650>, <city.City object at 0x7f9e9ba67d90>, <city.City object at 0x7f9e9ba671d0>, <city.City object at 0x7f9e9ba67150>]\n",
      "visited_list\n",
      "['City(chennai, black, 0 cubes)', 'City(milan, blue, 0 cubes)', 'City(delhi, black, 0 cubes)', 'City(jakarta, red, 0 cubes)', 'City(madrid, blue, 3 cubes)', 'City(bangkok, red, 0 cubes)', 'City(new_york, blue, 0 cubes)', 'City(lima, yellow, 0 cubes)', 'City(atlanta, blue, 0 cubes)', 'City(kolkata, black, 0 cubes)', 'City(chicago, blue, 2 cubes)', 'City(mumbai, black, 0 cubes)', 'City(paris, blue, 0 cubes)', 'City(essen, blue, 0 cubes)', 'City(istanbul, black, 1 cubes)', 'City(tehran, black, 2 cubes)', 'City(karachi, black, 0 cubes)', 'City(ho_chi_minh_city, red, 0 cubes)', 'City(sydney, red, 1 cubes)', 'City(london, blue, 0 cubes)', 'City(sao_paolo, yellow, 0 cubes)', 'City(algiers, black, 0 cubes)']\n",
      "loop\n",
      "City(hong_kong, red, 0 cubes)\n",
      "neighbors\n",
      "['City(taipei, red, 0 cubes)', 'City(manila, red, 0 cubes)', 'City(ho_chi_minh_city, red, 0 cubes)', 'City(bangkok, red, 0 cubes)', 'City(kolkata, black, 0 cubes)', 'City(shanghai, red, 0 cubes)']\n",
      "neighbors 2\n",
      "['City(taipei, red, 0 cubes)', 'City(shanghai, red, 0 cubes)']\n",
      "unvisited_queue\n",
      "[<city.City object at 0x7f9e9ba5c890>, <city.City object at 0x7f9e9ba01ad0>, <city.City object at 0x7f9e9ba67050>, <city.City object at 0x7f9e9ba015d0>, <city.City object at 0x7f9e9ba01350>, <city.City object at 0x7f9e9ba01c10>, <city.City object at 0x7f9e9ba01e10>, <city.City object at 0x7f9e9ba018d0>, <city.City object at 0x7f9e9ba01910>, <city.City object at 0x7f9e9ba675d0>, <city.City object at 0x7f9e9ba674d0>, <city.City object at 0x7f9e9ba67550>, <city.City object at 0x7f9e9ba67650>, <city.City object at 0x7f9e9ba67d90>, <city.City object at 0x7f9e9ba671d0>, <city.City object at 0x7f9e9ba67150>, <city.City object at 0x7f9e9ba67d10>, <city.City object at 0x7f9e9ba67b50>]\n",
      "visited_list\n",
      "['City(chennai, black, 0 cubes)', 'City(milan, blue, 0 cubes)', 'City(delhi, black, 0 cubes)', 'City(jakarta, red, 0 cubes)', 'City(madrid, blue, 3 cubes)', 'City(bangkok, red, 0 cubes)', 'City(new_york, blue, 0 cubes)', 'City(lima, yellow, 0 cubes)', 'City(atlanta, blue, 0 cubes)', 'City(kolkata, black, 0 cubes)', 'City(chicago, blue, 2 cubes)', 'City(mumbai, black, 0 cubes)', 'City(paris, blue, 0 cubes)', 'City(essen, blue, 0 cubes)', 'City(istanbul, black, 1 cubes)', 'City(tehran, black, 2 cubes)', 'City(karachi, black, 0 cubes)', 'City(ho_chi_minh_city, red, 0 cubes)', 'City(sydney, red, 1 cubes)', 'City(london, blue, 0 cubes)', 'City(sao_paolo, yellow, 0 cubes)', 'City(algiers, black, 0 cubes)', 'City(hong_kong, red, 0 cubes)']\n",
      "loop\n",
      "City(montreal, blue, 1 cubes)\n",
      "neighbors\n",
      "['City(chicago, blue, 2 cubes)', 'City(new_york, blue, 0 cubes)', 'City(washington, blue, 0 cubes)']\n",
      "neighbors 2\n",
      "[]\n",
      "unvisited_queue\n",
      "[<city.City object at 0x7f9e9ba01ad0>, <city.City object at 0x7f9e9ba67050>, <city.City object at 0x7f9e9ba015d0>, <city.City object at 0x7f9e9ba01350>, <city.City object at 0x7f9e9ba01c10>, <city.City object at 0x7f9e9ba01e10>, <city.City object at 0x7f9e9ba018d0>, <city.City object at 0x7f9e9ba01910>, <city.City object at 0x7f9e9ba675d0>, <city.City object at 0x7f9e9ba674d0>, <city.City object at 0x7f9e9ba67550>, <city.City object at 0x7f9e9ba67650>, <city.City object at 0x7f9e9ba67d90>, <city.City object at 0x7f9e9ba671d0>, <city.City object at 0x7f9e9ba67150>, <city.City object at 0x7f9e9ba67d10>, <city.City object at 0x7f9e9ba67b50>]\n",
      "visited_list\n",
      "['City(chennai, black, 0 cubes)', 'City(milan, blue, 0 cubes)', 'City(delhi, black, 0 cubes)', 'City(jakarta, red, 0 cubes)', 'City(madrid, blue, 3 cubes)', 'City(bangkok, red, 0 cubes)', 'City(new_york, blue, 0 cubes)', 'City(lima, yellow, 0 cubes)', 'City(atlanta, blue, 0 cubes)', 'City(kolkata, black, 0 cubes)', 'City(chicago, blue, 2 cubes)', 'City(mumbai, black, 0 cubes)', 'City(paris, blue, 0 cubes)', 'City(essen, blue, 0 cubes)', 'City(istanbul, black, 1 cubes)', 'City(tehran, black, 2 cubes)', 'City(karachi, black, 0 cubes)', 'City(ho_chi_minh_city, red, 0 cubes)', 'City(sydney, red, 1 cubes)', 'City(london, blue, 0 cubes)', 'City(sao_paolo, yellow, 0 cubes)', 'City(algiers, black, 0 cubes)', 'City(hong_kong, red, 0 cubes)', 'City(montreal, blue, 1 cubes)']\n",
      "loop\n",
      "City(washington, blue, 0 cubes)\n",
      "neighbors\n",
      "['City(montreal, blue, 1 cubes)', 'City(new_york, blue, 0 cubes)', 'City(atlanta, blue, 0 cubes)']\n",
      "neighbors 2\n",
      "[]\n"
     ]
    },
    {
     "name": "stdout",
     "output_type": "stream",
     "text": [
      "unvisited_queue\n",
      "[<city.City object at 0x7f9e9ba67050>, <city.City object at 0x7f9e9ba015d0>, <city.City object at 0x7f9e9ba01350>, <city.City object at 0x7f9e9ba01c10>, <city.City object at 0x7f9e9ba01e10>, <city.City object at 0x7f9e9ba018d0>, <city.City object at 0x7f9e9ba01910>, <city.City object at 0x7f9e9ba675d0>, <city.City object at 0x7f9e9ba674d0>, <city.City object at 0x7f9e9ba67550>, <city.City object at 0x7f9e9ba67650>, <city.City object at 0x7f9e9ba67d90>, <city.City object at 0x7f9e9ba671d0>, <city.City object at 0x7f9e9ba67150>, <city.City object at 0x7f9e9ba67d10>, <city.City object at 0x7f9e9ba67b50>]\n",
      "visited_list\n",
      "['City(chennai, black, 0 cubes)', 'City(milan, blue, 0 cubes)', 'City(delhi, black, 0 cubes)', 'City(jakarta, red, 0 cubes)', 'City(madrid, blue, 3 cubes)', 'City(bangkok, red, 0 cubes)', 'City(new_york, blue, 0 cubes)', 'City(lima, yellow, 0 cubes)', 'City(atlanta, blue, 0 cubes)', 'City(kolkata, black, 0 cubes)', 'City(chicago, blue, 2 cubes)', 'City(mumbai, black, 0 cubes)', 'City(paris, blue, 0 cubes)', 'City(essen, blue, 0 cubes)', 'City(istanbul, black, 1 cubes)', 'City(tehran, black, 2 cubes)', 'City(karachi, black, 0 cubes)', 'City(ho_chi_minh_city, red, 0 cubes)', 'City(sydney, red, 1 cubes)', 'City(london, blue, 0 cubes)', 'City(sao_paolo, yellow, 0 cubes)', 'City(algiers, black, 0 cubes)', 'City(hong_kong, red, 0 cubes)', 'City(montreal, blue, 1 cubes)', 'City(washington, blue, 0 cubes)']\n",
      "loop\n",
      "City(santiago, yellow, 0 cubes)\n",
      "neighbors\n",
      "['City(lima, yellow, 0 cubes)']\n",
      "neighbors 2\n",
      "[]\n",
      "unvisited_queue\n",
      "[<city.City object at 0x7f9e9ba015d0>, <city.City object at 0x7f9e9ba01350>, <city.City object at 0x7f9e9ba01c10>, <city.City object at 0x7f9e9ba01e10>, <city.City object at 0x7f9e9ba018d0>, <city.City object at 0x7f9e9ba01910>, <city.City object at 0x7f9e9ba675d0>, <city.City object at 0x7f9e9ba674d0>, <city.City object at 0x7f9e9ba67550>, <city.City object at 0x7f9e9ba67650>, <city.City object at 0x7f9e9ba67d90>, <city.City object at 0x7f9e9ba671d0>, <city.City object at 0x7f9e9ba67150>, <city.City object at 0x7f9e9ba67d10>, <city.City object at 0x7f9e9ba67b50>]\n",
      "visited_list\n",
      "['City(chennai, black, 0 cubes)', 'City(milan, blue, 0 cubes)', 'City(delhi, black, 0 cubes)', 'City(jakarta, red, 0 cubes)', 'City(madrid, blue, 3 cubes)', 'City(bangkok, red, 0 cubes)', 'City(new_york, blue, 0 cubes)', 'City(lima, yellow, 0 cubes)', 'City(atlanta, blue, 0 cubes)', 'City(kolkata, black, 0 cubes)', 'City(chicago, blue, 2 cubes)', 'City(mumbai, black, 0 cubes)', 'City(paris, blue, 0 cubes)', 'City(essen, blue, 0 cubes)', 'City(istanbul, black, 1 cubes)', 'City(tehran, black, 2 cubes)', 'City(karachi, black, 0 cubes)', 'City(ho_chi_minh_city, red, 0 cubes)', 'City(sydney, red, 1 cubes)', 'City(london, blue, 0 cubes)', 'City(sao_paolo, yellow, 0 cubes)', 'City(algiers, black, 0 cubes)', 'City(hong_kong, red, 0 cubes)', 'City(montreal, blue, 1 cubes)', 'City(washington, blue, 0 cubes)', 'City(santiago, yellow, 0 cubes)']\n",
      "loop\n",
      "City(mexico_city, yellow, 0 cubes)\n",
      "neighbors\n",
      "['City(chicago, blue, 2 cubes)', 'City(miami, yellow, 0 cubes)', 'City(bogota, yellow, 2 cubes)', 'City(lima, yellow, 0 cubes)', 'City(los_angeles, yellow, 0 cubes)']\n",
      "neighbors 2\n",
      "[]\n",
      "unvisited_queue\n",
      "[<city.City object at 0x7f9e9ba01350>, <city.City object at 0x7f9e9ba01c10>, <city.City object at 0x7f9e9ba01e10>, <city.City object at 0x7f9e9ba018d0>, <city.City object at 0x7f9e9ba01910>, <city.City object at 0x7f9e9ba675d0>, <city.City object at 0x7f9e9ba674d0>, <city.City object at 0x7f9e9ba67550>, <city.City object at 0x7f9e9ba67650>, <city.City object at 0x7f9e9ba67d90>, <city.City object at 0x7f9e9ba671d0>, <city.City object at 0x7f9e9ba67150>, <city.City object at 0x7f9e9ba67d10>, <city.City object at 0x7f9e9ba67b50>]\n",
      "visited_list\n",
      "['City(chennai, black, 0 cubes)', 'City(milan, blue, 0 cubes)', 'City(delhi, black, 0 cubes)', 'City(jakarta, red, 0 cubes)', 'City(madrid, blue, 3 cubes)', 'City(bangkok, red, 0 cubes)', 'City(new_york, blue, 0 cubes)', 'City(lima, yellow, 0 cubes)', 'City(atlanta, blue, 0 cubes)', 'City(kolkata, black, 0 cubes)', 'City(chicago, blue, 2 cubes)', 'City(mumbai, black, 0 cubes)', 'City(paris, blue, 0 cubes)', 'City(essen, blue, 0 cubes)', 'City(istanbul, black, 1 cubes)', 'City(tehran, black, 2 cubes)', 'City(karachi, black, 0 cubes)', 'City(ho_chi_minh_city, red, 0 cubes)', 'City(sydney, red, 1 cubes)', 'City(london, blue, 0 cubes)', 'City(sao_paolo, yellow, 0 cubes)', 'City(algiers, black, 0 cubes)', 'City(hong_kong, red, 0 cubes)', 'City(montreal, blue, 1 cubes)', 'City(washington, blue, 0 cubes)', 'City(santiago, yellow, 0 cubes)', 'City(mexico_city, yellow, 0 cubes)']\n",
      "loop\n",
      "City(bogota, yellow, 2 cubes)\n",
      "neighbors\n",
      "['City(miami, yellow, 0 cubes)', 'City(sao_paolo, yellow, 0 cubes)', 'City(buenos_aires, yellow, 0 cubes)', 'City(lima, yellow, 0 cubes)', 'City(mexico_city, yellow, 0 cubes)']\n",
      "neighbors 2\n",
      "[]\n",
      "unvisited_queue\n",
      "[<city.City object at 0x7f9e9ba01c10>, <city.City object at 0x7f9e9ba01e10>, <city.City object at 0x7f9e9ba018d0>, <city.City object at 0x7f9e9ba01910>, <city.City object at 0x7f9e9ba675d0>, <city.City object at 0x7f9e9ba674d0>, <city.City object at 0x7f9e9ba67550>, <city.City object at 0x7f9e9ba67650>, <city.City object at 0x7f9e9ba67d90>, <city.City object at 0x7f9e9ba671d0>, <city.City object at 0x7f9e9ba67150>, <city.City object at 0x7f9e9ba67d10>, <city.City object at 0x7f9e9ba67b50>]\n",
      "visited_list\n",
      "['City(chennai, black, 0 cubes)', 'City(milan, blue, 0 cubes)', 'City(delhi, black, 0 cubes)', 'City(jakarta, red, 0 cubes)', 'City(madrid, blue, 3 cubes)', 'City(bangkok, red, 0 cubes)', 'City(new_york, blue, 0 cubes)', 'City(lima, yellow, 0 cubes)', 'City(atlanta, blue, 0 cubes)', 'City(kolkata, black, 0 cubes)', 'City(chicago, blue, 2 cubes)', 'City(mumbai, black, 0 cubes)', 'City(paris, blue, 0 cubes)', 'City(essen, blue, 0 cubes)', 'City(istanbul, black, 1 cubes)', 'City(tehran, black, 2 cubes)', 'City(karachi, black, 0 cubes)', 'City(ho_chi_minh_city, red, 0 cubes)', 'City(sydney, red, 1 cubes)', 'City(london, blue, 0 cubes)', 'City(sao_paolo, yellow, 0 cubes)', 'City(algiers, black, 0 cubes)', 'City(hong_kong, red, 0 cubes)', 'City(montreal, blue, 1 cubes)', 'City(washington, blue, 0 cubes)', 'City(santiago, yellow, 0 cubes)', 'City(mexico_city, yellow, 0 cubes)', 'City(bogota, yellow, 2 cubes)']\n",
      "loop\n",
      "City(miami, yellow, 0 cubes)\n",
      "neighbors\n",
      "['City(washington, blue, 0 cubes)', 'City(bogota, yellow, 2 cubes)', 'City(mexico_city, yellow, 0 cubes)', 'City(atlanta, blue, 0 cubes)']\n",
      "neighbors 2\n",
      "[]\n",
      "unvisited_queue\n",
      "[<city.City object at 0x7f9e9ba01e10>, <city.City object at 0x7f9e9ba018d0>, <city.City object at 0x7f9e9ba01910>, <city.City object at 0x7f9e9ba675d0>, <city.City object at 0x7f9e9ba674d0>, <city.City object at 0x7f9e9ba67550>, <city.City object at 0x7f9e9ba67650>, <city.City object at 0x7f9e9ba67d90>, <city.City object at 0x7f9e9ba671d0>, <city.City object at 0x7f9e9ba67150>, <city.City object at 0x7f9e9ba67d10>, <city.City object at 0x7f9e9ba67b50>]\n",
      "visited_list\n",
      "['City(chennai, black, 0 cubes)', 'City(milan, blue, 0 cubes)', 'City(delhi, black, 0 cubes)', 'City(jakarta, red, 0 cubes)', 'City(madrid, blue, 3 cubes)', 'City(bangkok, red, 0 cubes)', 'City(new_york, blue, 0 cubes)', 'City(lima, yellow, 0 cubes)', 'City(atlanta, blue, 0 cubes)', 'City(kolkata, black, 0 cubes)', 'City(chicago, blue, 2 cubes)', 'City(mumbai, black, 0 cubes)', 'City(paris, blue, 0 cubes)', 'City(essen, blue, 0 cubes)', 'City(istanbul, black, 1 cubes)', 'City(tehran, black, 2 cubes)', 'City(karachi, black, 0 cubes)', 'City(ho_chi_minh_city, red, 0 cubes)', 'City(sydney, red, 1 cubes)', 'City(london, blue, 0 cubes)', 'City(sao_paolo, yellow, 0 cubes)', 'City(algiers, black, 0 cubes)', 'City(hong_kong, red, 0 cubes)', 'City(montreal, blue, 1 cubes)', 'City(washington, blue, 0 cubes)', 'City(santiago, yellow, 0 cubes)', 'City(mexico_city, yellow, 0 cubes)', 'City(bogota, yellow, 2 cubes)', 'City(miami, yellow, 0 cubes)']\n",
      "loop\n",
      "City(san_francisco, blue, 0 cubes)\n",
      "neighbors\n",
      "['City(chicago, blue, 2 cubes)', 'City(los_angeles, yellow, 0 cubes)', 'City(manila, red, 0 cubes)', 'City(tokyo, red, 0 cubes)']\n",
      "neighbors 2\n",
      "['City(tokyo, red, 0 cubes)']\n",
      "unvisited_queue\n",
      "[<city.City object at 0x7f9e9ba018d0>, <city.City object at 0x7f9e9ba01910>, <city.City object at 0x7f9e9ba675d0>, <city.City object at 0x7f9e9ba674d0>, <city.City object at 0x7f9e9ba67550>, <city.City object at 0x7f9e9ba67650>, <city.City object at 0x7f9e9ba67d90>, <city.City object at 0x7f9e9ba671d0>, <city.City object at 0x7f9e9ba67150>, <city.City object at 0x7f9e9ba67d10>, <city.City object at 0x7f9e9ba67b50>, <city.City object at 0x7f9e9ba67e90>]\n",
      "visited_list\n",
      "['City(chennai, black, 0 cubes)', 'City(milan, blue, 0 cubes)', 'City(delhi, black, 0 cubes)', 'City(jakarta, red, 0 cubes)', 'City(madrid, blue, 3 cubes)', 'City(bangkok, red, 0 cubes)', 'City(new_york, blue, 0 cubes)', 'City(lima, yellow, 0 cubes)', 'City(atlanta, blue, 0 cubes)', 'City(kolkata, black, 0 cubes)', 'City(chicago, blue, 2 cubes)', 'City(mumbai, black, 0 cubes)', 'City(paris, blue, 0 cubes)', 'City(essen, blue, 0 cubes)', 'City(istanbul, black, 1 cubes)', 'City(tehran, black, 2 cubes)', 'City(karachi, black, 0 cubes)', 'City(ho_chi_minh_city, red, 0 cubes)', 'City(sydney, red, 1 cubes)', 'City(london, blue, 0 cubes)', 'City(sao_paolo, yellow, 0 cubes)', 'City(algiers, black, 0 cubes)', 'City(hong_kong, red, 0 cubes)', 'City(montreal, blue, 1 cubes)', 'City(washington, blue, 0 cubes)', 'City(santiago, yellow, 0 cubes)', 'City(mexico_city, yellow, 0 cubes)', 'City(bogota, yellow, 2 cubes)', 'City(miami, yellow, 0 cubes)', 'City(san_francisco, blue, 0 cubes)']\n",
      "loop\n",
      "City(los_angeles, yellow, 0 cubes)\n",
      "neighbors\n",
      "['City(chicago, blue, 2 cubes)', 'City(mexico_city, yellow, 0 cubes)', 'City(sydney, red, 1 cubes)', 'City(san_francisco, blue, 0 cubes)']\n",
      "neighbors 2\n",
      "[]\n",
      "unvisited_queue\n",
      "[<city.City object at 0x7f9e9ba01910>, <city.City object at 0x7f9e9ba675d0>, <city.City object at 0x7f9e9ba674d0>, <city.City object at 0x7f9e9ba67550>, <city.City object at 0x7f9e9ba67650>, <city.City object at 0x7f9e9ba67d90>, <city.City object at 0x7f9e9ba671d0>, <city.City object at 0x7f9e9ba67150>, <city.City object at 0x7f9e9ba67d10>, <city.City object at 0x7f9e9ba67b50>, <city.City object at 0x7f9e9ba67e90>]\n",
      "visited_list\n",
      "['City(chennai, black, 0 cubes)', 'City(milan, blue, 0 cubes)', 'City(delhi, black, 0 cubes)', 'City(jakarta, red, 0 cubes)', 'City(madrid, blue, 3 cubes)', 'City(bangkok, red, 0 cubes)', 'City(new_york, blue, 0 cubes)', 'City(lima, yellow, 0 cubes)', 'City(atlanta, blue, 0 cubes)', 'City(kolkata, black, 0 cubes)', 'City(chicago, blue, 2 cubes)', 'City(mumbai, black, 0 cubes)', 'City(paris, blue, 0 cubes)', 'City(essen, blue, 0 cubes)', 'City(istanbul, black, 1 cubes)', 'City(tehran, black, 2 cubes)', 'City(karachi, black, 0 cubes)', 'City(ho_chi_minh_city, red, 0 cubes)', 'City(sydney, red, 1 cubes)', 'City(london, blue, 0 cubes)', 'City(sao_paolo, yellow, 0 cubes)', 'City(algiers, black, 0 cubes)', 'City(hong_kong, red, 0 cubes)', 'City(montreal, blue, 1 cubes)', 'City(washington, blue, 0 cubes)', 'City(santiago, yellow, 0 cubes)', 'City(mexico_city, yellow, 0 cubes)', 'City(bogota, yellow, 2 cubes)', 'City(miami, yellow, 0 cubes)', 'City(san_francisco, blue, 0 cubes)', 'City(los_angeles, yellow, 0 cubes)']\n",
      "loop\n",
      "City(st_petersburg, blue, 0 cubes)\n",
      "neighbors\n",
      "['City(moscow, black, 0 cubes)', 'City(istanbul, black, 1 cubes)', 'City(essen, blue, 0 cubes)']\n",
      "neighbors 2\n",
      "[]\n",
      "unvisited_queue\n",
      "[<city.City object at 0x7f9e9ba675d0>, <city.City object at 0x7f9e9ba674d0>, <city.City object at 0x7f9e9ba67550>, <city.City object at 0x7f9e9ba67650>, <city.City object at 0x7f9e9ba67d90>, <city.City object at 0x7f9e9ba671d0>, <city.City object at 0x7f9e9ba67150>, <city.City object at 0x7f9e9ba67d10>, <city.City object at 0x7f9e9ba67b50>, <city.City object at 0x7f9e9ba67e90>]\n",
      "visited_list\n",
      "['City(chennai, black, 0 cubes)', 'City(milan, blue, 0 cubes)', 'City(delhi, black, 0 cubes)', 'City(jakarta, red, 0 cubes)', 'City(madrid, blue, 3 cubes)', 'City(bangkok, red, 0 cubes)', 'City(new_york, blue, 0 cubes)', 'City(lima, yellow, 0 cubes)', 'City(atlanta, blue, 0 cubes)', 'City(kolkata, black, 0 cubes)', 'City(chicago, blue, 2 cubes)', 'City(mumbai, black, 0 cubes)', 'City(paris, blue, 0 cubes)', 'City(essen, blue, 0 cubes)', 'City(istanbul, black, 1 cubes)', 'City(tehran, black, 2 cubes)', 'City(karachi, black, 0 cubes)', 'City(ho_chi_minh_city, red, 0 cubes)', 'City(sydney, red, 1 cubes)', 'City(london, blue, 0 cubes)', 'City(sao_paolo, yellow, 0 cubes)', 'City(algiers, black, 0 cubes)', 'City(hong_kong, red, 0 cubes)', 'City(montreal, blue, 1 cubes)', 'City(washington, blue, 0 cubes)', 'City(santiago, yellow, 0 cubes)', 'City(mexico_city, yellow, 0 cubes)', 'City(bogota, yellow, 2 cubes)', 'City(miami, yellow, 0 cubes)', 'City(san_francisco, blue, 0 cubes)', 'City(los_angeles, yellow, 0 cubes)', 'City(st_petersburg, blue, 0 cubes)']\n",
      "loop\n",
      "City(baghdad, black, 0 cubes)\n",
      "neighbors\n",
      "['City(tehran, black, 2 cubes)', 'City(karachi, black, 0 cubes)', 'City(riyadh, black, 0 cubes)', 'City(cairo, black, 0 cubes)', 'City(istanbul, black, 1 cubes)']\n",
      "neighbors 2\n",
      "[]\n",
      "unvisited_queue\n",
      "[<city.City object at 0x7f9e9ba674d0>, <city.City object at 0x7f9e9ba67550>, <city.City object at 0x7f9e9ba67650>, <city.City object at 0x7f9e9ba67d90>, <city.City object at 0x7f9e9ba671d0>, <city.City object at 0x7f9e9ba67150>, <city.City object at 0x7f9e9ba67d10>, <city.City object at 0x7f9e9ba67b50>, <city.City object at 0x7f9e9ba67e90>]\n",
      "visited_list\n",
      "['City(chennai, black, 0 cubes)', 'City(milan, blue, 0 cubes)', 'City(delhi, black, 0 cubes)', 'City(jakarta, red, 0 cubes)', 'City(madrid, blue, 3 cubes)', 'City(bangkok, red, 0 cubes)', 'City(new_york, blue, 0 cubes)', 'City(lima, yellow, 0 cubes)', 'City(atlanta, blue, 0 cubes)', 'City(kolkata, black, 0 cubes)', 'City(chicago, blue, 2 cubes)', 'City(mumbai, black, 0 cubes)', 'City(paris, blue, 0 cubes)', 'City(essen, blue, 0 cubes)', 'City(istanbul, black, 1 cubes)', 'City(tehran, black, 2 cubes)', 'City(karachi, black, 0 cubes)', 'City(ho_chi_minh_city, red, 0 cubes)', 'City(sydney, red, 1 cubes)', 'City(london, blue, 0 cubes)', 'City(sao_paolo, yellow, 0 cubes)', 'City(algiers, black, 0 cubes)', 'City(hong_kong, red, 0 cubes)', 'City(montreal, blue, 1 cubes)', 'City(washington, blue, 0 cubes)', 'City(santiago, yellow, 0 cubes)', 'City(mexico_city, yellow, 0 cubes)', 'City(bogota, yellow, 2 cubes)', 'City(miami, yellow, 0 cubes)', 'City(san_francisco, blue, 0 cubes)', 'City(los_angeles, yellow, 0 cubes)', 'City(st_petersburg, blue, 0 cubes)', 'City(baghdad, black, 0 cubes)']\n",
      "loop\n",
      "City(cairo, black, 0 cubes)\n",
      "neighbors\n",
      "['City(istanbul, black, 1 cubes)', 'City(baghdad, black, 0 cubes)', 'City(riyadh, black, 0 cubes)', 'City(khartoum, yellow, 0 cubes)', 'City(algiers, black, 0 cubes)']\n",
      "neighbors 2\n",
      "['City(khartoum, yellow, 0 cubes)']\n",
      "unvisited_queue\n",
      "[<city.City object at 0x7f9e9ba67550>, <city.City object at 0x7f9e9ba67650>, <city.City object at 0x7f9e9ba67d90>, <city.City object at 0x7f9e9ba671d0>, <city.City object at 0x7f9e9ba67150>, <city.City object at 0x7f9e9ba67d10>, <city.City object at 0x7f9e9ba67b50>, <city.City object at 0x7f9e9ba67e90>, <city.City object at 0x7f9e9ba672d0>]\n",
      "visited_list\n",
      "['City(chennai, black, 0 cubes)', 'City(milan, blue, 0 cubes)', 'City(delhi, black, 0 cubes)', 'City(jakarta, red, 0 cubes)', 'City(madrid, blue, 3 cubes)', 'City(bangkok, red, 0 cubes)', 'City(new_york, blue, 0 cubes)', 'City(lima, yellow, 0 cubes)', 'City(atlanta, blue, 0 cubes)', 'City(kolkata, black, 0 cubes)', 'City(chicago, blue, 2 cubes)', 'City(mumbai, black, 0 cubes)', 'City(paris, blue, 0 cubes)', 'City(essen, blue, 0 cubes)', 'City(istanbul, black, 1 cubes)', 'City(tehran, black, 2 cubes)', 'City(karachi, black, 0 cubes)', 'City(ho_chi_minh_city, red, 0 cubes)', 'City(sydney, red, 1 cubes)', 'City(london, blue, 0 cubes)', 'City(sao_paolo, yellow, 0 cubes)', 'City(algiers, black, 0 cubes)', 'City(hong_kong, red, 0 cubes)', 'City(montreal, blue, 1 cubes)', 'City(washington, blue, 0 cubes)', 'City(santiago, yellow, 0 cubes)', 'City(mexico_city, yellow, 0 cubes)', 'City(bogota, yellow, 2 cubes)', 'City(miami, yellow, 0 cubes)', 'City(san_francisco, blue, 0 cubes)', 'City(los_angeles, yellow, 0 cubes)', 'City(st_petersburg, blue, 0 cubes)', 'City(baghdad, black, 0 cubes)', 'City(cairo, black, 0 cubes)']\n",
      "loop\n",
      "City(moscow, black, 0 cubes)\n",
      "neighbors\n",
      "['City(tehran, black, 2 cubes)', 'City(istanbul, black, 1 cubes)', 'City(st_petersburg, blue, 0 cubes)']\n",
      "neighbors 2\n",
      "[]\n",
      "unvisited_queue\n",
      "[<city.City object at 0x7f9e9ba67650>, <city.City object at 0x7f9e9ba67d90>, <city.City object at 0x7f9e9ba671d0>, <city.City object at 0x7f9e9ba67150>, <city.City object at 0x7f9e9ba67d10>, <city.City object at 0x7f9e9ba67b50>, <city.City object at 0x7f9e9ba67e90>, <city.City object at 0x7f9e9ba672d0>]\n",
      "visited_list\n",
      "['City(chennai, black, 0 cubes)', 'City(milan, blue, 0 cubes)', 'City(delhi, black, 0 cubes)', 'City(jakarta, red, 0 cubes)', 'City(madrid, blue, 3 cubes)', 'City(bangkok, red, 0 cubes)', 'City(new_york, blue, 0 cubes)', 'City(lima, yellow, 0 cubes)', 'City(atlanta, blue, 0 cubes)', 'City(kolkata, black, 0 cubes)', 'City(chicago, blue, 2 cubes)', 'City(mumbai, black, 0 cubes)', 'City(paris, blue, 0 cubes)', 'City(essen, blue, 0 cubes)', 'City(istanbul, black, 1 cubes)', 'City(tehran, black, 2 cubes)', 'City(karachi, black, 0 cubes)', 'City(ho_chi_minh_city, red, 0 cubes)', 'City(sydney, red, 1 cubes)', 'City(london, blue, 0 cubes)', 'City(sao_paolo, yellow, 0 cubes)', 'City(algiers, black, 0 cubes)', 'City(hong_kong, red, 0 cubes)', 'City(montreal, blue, 1 cubes)', 'City(washington, blue, 0 cubes)', 'City(santiago, yellow, 0 cubes)', 'City(mexico_city, yellow, 0 cubes)', 'City(bogota, yellow, 2 cubes)', 'City(miami, yellow, 0 cubes)', 'City(san_francisco, blue, 0 cubes)', 'City(los_angeles, yellow, 0 cubes)', 'City(st_petersburg, blue, 0 cubes)', 'City(baghdad, black, 0 cubes)', 'City(cairo, black, 0 cubes)', 'City(moscow, black, 0 cubes)']\n",
      "loop\n",
      "City(riyadh, black, 0 cubes)\n",
      "neighbors\n",
      "['City(karachi, black, 0 cubes)', 'City(cairo, black, 0 cubes)', 'City(baghdad, black, 0 cubes)']\n",
      "neighbors 2\n",
      "[]\n",
      "unvisited_queue\n",
      "[<city.City object at 0x7f9e9ba67d90>, <city.City object at 0x7f9e9ba671d0>, <city.City object at 0x7f9e9ba67150>, <city.City object at 0x7f9e9ba67d10>, <city.City object at 0x7f9e9ba67b50>, <city.City object at 0x7f9e9ba67e90>, <city.City object at 0x7f9e9ba672d0>]\n",
      "visited_list\n",
      "['City(chennai, black, 0 cubes)', 'City(milan, blue, 0 cubes)', 'City(delhi, black, 0 cubes)', 'City(jakarta, red, 0 cubes)', 'City(madrid, blue, 3 cubes)', 'City(bangkok, red, 0 cubes)', 'City(new_york, blue, 0 cubes)', 'City(lima, yellow, 0 cubes)', 'City(atlanta, blue, 0 cubes)', 'City(kolkata, black, 0 cubes)', 'City(chicago, blue, 2 cubes)', 'City(mumbai, black, 0 cubes)', 'City(paris, blue, 0 cubes)', 'City(essen, blue, 0 cubes)', 'City(istanbul, black, 1 cubes)', 'City(tehran, black, 2 cubes)', 'City(karachi, black, 0 cubes)', 'City(ho_chi_minh_city, red, 0 cubes)', 'City(sydney, red, 1 cubes)', 'City(london, blue, 0 cubes)', 'City(sao_paolo, yellow, 0 cubes)', 'City(algiers, black, 0 cubes)', 'City(hong_kong, red, 0 cubes)', 'City(montreal, blue, 1 cubes)', 'City(washington, blue, 0 cubes)', 'City(santiago, yellow, 0 cubes)', 'City(mexico_city, yellow, 0 cubes)', 'City(bogota, yellow, 2 cubes)', 'City(miami, yellow, 0 cubes)', 'City(san_francisco, blue, 0 cubes)', 'City(los_angeles, yellow, 0 cubes)', 'City(st_petersburg, blue, 0 cubes)', 'City(baghdad, black, 0 cubes)', 'City(cairo, black, 0 cubes)', 'City(moscow, black, 0 cubes)', 'City(riyadh, black, 0 cubes)']\n",
      "loop\n",
      "City(manila, red, 0 cubes)\n",
      "neighbors\n",
      "['City(san_francisco, blue, 0 cubes)', 'City(sydney, red, 1 cubes)', 'City(ho_chi_minh_city, red, 0 cubes)', 'City(hong_kong, red, 0 cubes)', 'City(taipei, red, 0 cubes)']\n",
      "neighbors 2\n",
      "[]\n",
      "unvisited_queue\n",
      "[<city.City object at 0x7f9e9ba671d0>, <city.City object at 0x7f9e9ba67150>, <city.City object at 0x7f9e9ba67d10>, <city.City object at 0x7f9e9ba67b50>, <city.City object at 0x7f9e9ba67e90>, <city.City object at 0x7f9e9ba672d0>]\n",
      "visited_list\n",
      "['City(chennai, black, 0 cubes)', 'City(milan, blue, 0 cubes)', 'City(delhi, black, 0 cubes)', 'City(jakarta, red, 0 cubes)', 'City(madrid, blue, 3 cubes)', 'City(bangkok, red, 0 cubes)', 'City(new_york, blue, 0 cubes)', 'City(lima, yellow, 0 cubes)', 'City(atlanta, blue, 0 cubes)', 'City(kolkata, black, 0 cubes)', 'City(chicago, blue, 2 cubes)', 'City(mumbai, black, 0 cubes)', 'City(paris, blue, 0 cubes)', 'City(essen, blue, 0 cubes)', 'City(istanbul, black, 1 cubes)', 'City(tehran, black, 2 cubes)', 'City(karachi, black, 0 cubes)', 'City(ho_chi_minh_city, red, 0 cubes)', 'City(sydney, red, 1 cubes)', 'City(london, blue, 0 cubes)', 'City(sao_paolo, yellow, 0 cubes)', 'City(algiers, black, 0 cubes)', 'City(hong_kong, red, 0 cubes)', 'City(montreal, blue, 1 cubes)', 'City(washington, blue, 0 cubes)', 'City(santiago, yellow, 0 cubes)', 'City(mexico_city, yellow, 0 cubes)', 'City(bogota, yellow, 2 cubes)', 'City(miami, yellow, 0 cubes)', 'City(san_francisco, blue, 0 cubes)', 'City(los_angeles, yellow, 0 cubes)', 'City(st_petersburg, blue, 0 cubes)', 'City(baghdad, black, 0 cubes)', 'City(cairo, black, 0 cubes)', 'City(moscow, black, 0 cubes)', 'City(riyadh, black, 0 cubes)', 'City(manila, red, 0 cubes)']\n",
      "loop\n",
      "City(lagos, yellow, 0 cubes)\n",
      "neighbors\n",
      "['City(khartoum, yellow, 0 cubes)', 'City(kinshasa, yellow, 3 cubes)', 'City(sao_paolo, yellow, 0 cubes)']\n",
      "neighbors 2\n",
      "['City(kinshasa, yellow, 3 cubes)']\n",
      "unvisited_queue\n",
      "[<city.City object at 0x7f9e9ba67150>, <city.City object at 0x7f9e9ba67d10>, <city.City object at 0x7f9e9ba67b50>, <city.City object at 0x7f9e9ba67e90>, <city.City object at 0x7f9e9ba672d0>, <city.City object at 0x7f9e9ba67250>]\n",
      "visited_list\n",
      "['City(chennai, black, 0 cubes)', 'City(milan, blue, 0 cubes)', 'City(delhi, black, 0 cubes)', 'City(jakarta, red, 0 cubes)', 'City(madrid, blue, 3 cubes)', 'City(bangkok, red, 0 cubes)', 'City(new_york, blue, 0 cubes)', 'City(lima, yellow, 0 cubes)', 'City(atlanta, blue, 0 cubes)', 'City(kolkata, black, 0 cubes)', 'City(chicago, blue, 2 cubes)', 'City(mumbai, black, 0 cubes)', 'City(paris, blue, 0 cubes)', 'City(essen, blue, 0 cubes)', 'City(istanbul, black, 1 cubes)', 'City(tehran, black, 2 cubes)', 'City(karachi, black, 0 cubes)', 'City(ho_chi_minh_city, red, 0 cubes)', 'City(sydney, red, 1 cubes)', 'City(london, blue, 0 cubes)', 'City(sao_paolo, yellow, 0 cubes)', 'City(algiers, black, 0 cubes)', 'City(hong_kong, red, 0 cubes)', 'City(montreal, blue, 1 cubes)', 'City(washington, blue, 0 cubes)', 'City(santiago, yellow, 0 cubes)', 'City(mexico_city, yellow, 0 cubes)', 'City(bogota, yellow, 2 cubes)', 'City(miami, yellow, 0 cubes)', 'City(san_francisco, blue, 0 cubes)', 'City(los_angeles, yellow, 0 cubes)', 'City(st_petersburg, blue, 0 cubes)', 'City(baghdad, black, 0 cubes)', 'City(cairo, black, 0 cubes)', 'City(moscow, black, 0 cubes)', 'City(riyadh, black, 0 cubes)', 'City(manila, red, 0 cubes)', 'City(lagos, yellow, 0 cubes)']\n",
      "loop\n",
      "City(buenos_aires, yellow, 0 cubes)\n",
      "neighbors\n",
      "['City(sao_paolo, yellow, 0 cubes)', 'City(bogota, yellow, 2 cubes)']\n",
      "neighbors 2\n",
      "[]\n",
      "unvisited_queue\n",
      "[<city.City object at 0x7f9e9ba67d10>, <city.City object at 0x7f9e9ba67b50>, <city.City object at 0x7f9e9ba67e90>, <city.City object at 0x7f9e9ba672d0>, <city.City object at 0x7f9e9ba67250>]\n",
      "visited_list\n",
      "['City(chennai, black, 0 cubes)', 'City(milan, blue, 0 cubes)', 'City(delhi, black, 0 cubes)', 'City(jakarta, red, 0 cubes)', 'City(madrid, blue, 3 cubes)', 'City(bangkok, red, 0 cubes)', 'City(new_york, blue, 0 cubes)', 'City(lima, yellow, 0 cubes)', 'City(atlanta, blue, 0 cubes)', 'City(kolkata, black, 0 cubes)', 'City(chicago, blue, 2 cubes)', 'City(mumbai, black, 0 cubes)', 'City(paris, blue, 0 cubes)', 'City(essen, blue, 0 cubes)', 'City(istanbul, black, 1 cubes)', 'City(tehran, black, 2 cubes)', 'City(karachi, black, 0 cubes)', 'City(ho_chi_minh_city, red, 0 cubes)', 'City(sydney, red, 1 cubes)', 'City(london, blue, 0 cubes)', 'City(sao_paolo, yellow, 0 cubes)', 'City(algiers, black, 0 cubes)', 'City(hong_kong, red, 0 cubes)', 'City(montreal, blue, 1 cubes)', 'City(washington, blue, 0 cubes)', 'City(santiago, yellow, 0 cubes)', 'City(mexico_city, yellow, 0 cubes)', 'City(bogota, yellow, 2 cubes)', 'City(miami, yellow, 0 cubes)', 'City(san_francisco, blue, 0 cubes)', 'City(los_angeles, yellow, 0 cubes)', 'City(st_petersburg, blue, 0 cubes)', 'City(baghdad, black, 0 cubes)', 'City(cairo, black, 0 cubes)', 'City(moscow, black, 0 cubes)', 'City(riyadh, black, 0 cubes)', 'City(manila, red, 0 cubes)', 'City(lagos, yellow, 0 cubes)', 'City(buenos_aires, yellow, 0 cubes)']\n",
      "loop\n",
      "City(taipei, red, 0 cubes)\n",
      "neighbors\n",
      "['City(osaka, red, 3 cubes)', 'City(manila, red, 0 cubes)', 'City(hong_kong, red, 0 cubes)', 'City(shanghai, red, 0 cubes)']\n",
      "neighbors 2\n",
      "['City(osaka, red, 3 cubes)']\n",
      "unvisited_queue\n",
      "[<city.City object at 0x7f9e9ba67b50>, <city.City object at 0x7f9e9ba67e90>, <city.City object at 0x7f9e9ba672d0>, <city.City object at 0x7f9e9ba67250>, <city.City object at 0x7f9e9ba67f10>]\n",
      "visited_list\n",
      "['City(chennai, black, 0 cubes)', 'City(milan, blue, 0 cubes)', 'City(delhi, black, 0 cubes)', 'City(jakarta, red, 0 cubes)', 'City(madrid, blue, 3 cubes)', 'City(bangkok, red, 0 cubes)', 'City(new_york, blue, 0 cubes)', 'City(lima, yellow, 0 cubes)', 'City(atlanta, blue, 0 cubes)', 'City(kolkata, black, 0 cubes)', 'City(chicago, blue, 2 cubes)', 'City(mumbai, black, 0 cubes)', 'City(paris, blue, 0 cubes)', 'City(essen, blue, 0 cubes)', 'City(istanbul, black, 1 cubes)', 'City(tehran, black, 2 cubes)', 'City(karachi, black, 0 cubes)', 'City(ho_chi_minh_city, red, 0 cubes)', 'City(sydney, red, 1 cubes)', 'City(london, blue, 0 cubes)', 'City(sao_paolo, yellow, 0 cubes)', 'City(algiers, black, 0 cubes)', 'City(hong_kong, red, 0 cubes)', 'City(montreal, blue, 1 cubes)', 'City(washington, blue, 0 cubes)', 'City(santiago, yellow, 0 cubes)', 'City(mexico_city, yellow, 0 cubes)', 'City(bogota, yellow, 2 cubes)', 'City(miami, yellow, 0 cubes)', 'City(san_francisco, blue, 0 cubes)', 'City(los_angeles, yellow, 0 cubes)', 'City(st_petersburg, blue, 0 cubes)', 'City(baghdad, black, 0 cubes)', 'City(cairo, black, 0 cubes)', 'City(moscow, black, 0 cubes)', 'City(riyadh, black, 0 cubes)', 'City(manila, red, 0 cubes)', 'City(lagos, yellow, 0 cubes)', 'City(buenos_aires, yellow, 0 cubes)', 'City(taipei, red, 0 cubes)']\n",
      "loop\n",
      "City(shanghai, red, 0 cubes)\n",
      "neighbors\n",
      "['City(seoul, red, 0 cubes)', 'City(tokyo, red, 0 cubes)', 'City(hong_kong, red, 0 cubes)', 'City(beijing, red, 0 cubes)']\n",
      "neighbors 2\n",
      "['City(seoul, red, 0 cubes)', 'City(beijing, red, 0 cubes)']\n",
      "unvisited_queue\n",
      "[<city.City object at 0x7f9e9ba67e90>, <city.City object at 0x7f9e9ba672d0>, <city.City object at 0x7f9e9ba67250>, <city.City object at 0x7f9e9ba67f10>, <city.City object at 0x7f9e9ba67cd0>, <city.City object at 0x7f9e9ba67ad0>]\n",
      "visited_list\n",
      "['City(chennai, black, 0 cubes)', 'City(milan, blue, 0 cubes)', 'City(delhi, black, 0 cubes)', 'City(jakarta, red, 0 cubes)', 'City(madrid, blue, 3 cubes)', 'City(bangkok, red, 0 cubes)', 'City(new_york, blue, 0 cubes)', 'City(lima, yellow, 0 cubes)', 'City(atlanta, blue, 0 cubes)', 'City(kolkata, black, 0 cubes)', 'City(chicago, blue, 2 cubes)', 'City(mumbai, black, 0 cubes)', 'City(paris, blue, 0 cubes)', 'City(essen, blue, 0 cubes)', 'City(istanbul, black, 1 cubes)', 'City(tehran, black, 2 cubes)', 'City(karachi, black, 0 cubes)', 'City(ho_chi_minh_city, red, 0 cubes)', 'City(sydney, red, 1 cubes)', 'City(london, blue, 0 cubes)', 'City(sao_paolo, yellow, 0 cubes)', 'City(algiers, black, 0 cubes)', 'City(hong_kong, red, 0 cubes)', 'City(montreal, blue, 1 cubes)', 'City(washington, blue, 0 cubes)', 'City(santiago, yellow, 0 cubes)', 'City(mexico_city, yellow, 0 cubes)', 'City(bogota, yellow, 2 cubes)', 'City(miami, yellow, 0 cubes)', 'City(san_francisco, blue, 0 cubes)', 'City(los_angeles, yellow, 0 cubes)', 'City(st_petersburg, blue, 0 cubes)', 'City(baghdad, black, 0 cubes)', 'City(cairo, black, 0 cubes)', 'City(moscow, black, 0 cubes)', 'City(riyadh, black, 0 cubes)', 'City(manila, red, 0 cubes)', 'City(lagos, yellow, 0 cubes)', 'City(buenos_aires, yellow, 0 cubes)', 'City(taipei, red, 0 cubes)', 'City(shanghai, red, 0 cubes)']\n",
      "loop\n",
      "City(tokyo, red, 0 cubes)\n",
      "neighbors\n",
      "['City(san_francisco, blue, 0 cubes)', 'City(osaka, red, 3 cubes)', 'City(shanghai, red, 0 cubes)', 'City(seoul, red, 0 cubes)']\n",
      "neighbors 2\n",
      "[]\n",
      "unvisited_queue\n",
      "[<city.City object at 0x7f9e9ba672d0>, <city.City object at 0x7f9e9ba67250>, <city.City object at 0x7f9e9ba67f10>, <city.City object at 0x7f9e9ba67cd0>, <city.City object at 0x7f9e9ba67ad0>]\n",
      "visited_list\n",
      "['City(chennai, black, 0 cubes)', 'City(milan, blue, 0 cubes)', 'City(delhi, black, 0 cubes)', 'City(jakarta, red, 0 cubes)', 'City(madrid, blue, 3 cubes)', 'City(bangkok, red, 0 cubes)', 'City(new_york, blue, 0 cubes)', 'City(lima, yellow, 0 cubes)', 'City(atlanta, blue, 0 cubes)', 'City(kolkata, black, 0 cubes)', 'City(chicago, blue, 2 cubes)', 'City(mumbai, black, 0 cubes)', 'City(paris, blue, 0 cubes)', 'City(essen, blue, 0 cubes)', 'City(istanbul, black, 1 cubes)', 'City(tehran, black, 2 cubes)', 'City(karachi, black, 0 cubes)', 'City(ho_chi_minh_city, red, 0 cubes)', 'City(sydney, red, 1 cubes)', 'City(london, blue, 0 cubes)', 'City(sao_paolo, yellow, 0 cubes)', 'City(algiers, black, 0 cubes)', 'City(hong_kong, red, 0 cubes)', 'City(montreal, blue, 1 cubes)', 'City(washington, blue, 0 cubes)', 'City(santiago, yellow, 0 cubes)', 'City(mexico_city, yellow, 0 cubes)', 'City(bogota, yellow, 2 cubes)', 'City(miami, yellow, 0 cubes)', 'City(san_francisco, blue, 0 cubes)', 'City(los_angeles, yellow, 0 cubes)', 'City(st_petersburg, blue, 0 cubes)', 'City(baghdad, black, 0 cubes)', 'City(cairo, black, 0 cubes)', 'City(moscow, black, 0 cubes)', 'City(riyadh, black, 0 cubes)', 'City(manila, red, 0 cubes)', 'City(lagos, yellow, 0 cubes)', 'City(buenos_aires, yellow, 0 cubes)', 'City(taipei, red, 0 cubes)', 'City(shanghai, red, 0 cubes)', 'City(tokyo, red, 0 cubes)']\n",
      "loop\n",
      "City(khartoum, yellow, 0 cubes)\n",
      "neighbors\n",
      "['City(johannesburg, yellow, 0 cubes)', 'City(kinshasa, yellow, 3 cubes)', 'City(lagos, yellow, 0 cubes)', 'City(cairo, black, 0 cubes)']\n",
      "neighbors 2\n",
      "['City(johannesburg, yellow, 0 cubes)']\n",
      "unvisited_queue\n",
      "[<city.City object at 0x7f9e9ba67250>, <city.City object at 0x7f9e9ba67f10>, <city.City object at 0x7f9e9ba67cd0>, <city.City object at 0x7f9e9ba67ad0>, <city.City object at 0x7f9e9ba67350>]\n",
      "visited_list\n",
      "['City(chennai, black, 0 cubes)', 'City(milan, blue, 0 cubes)', 'City(delhi, black, 0 cubes)', 'City(jakarta, red, 0 cubes)', 'City(madrid, blue, 3 cubes)', 'City(bangkok, red, 0 cubes)', 'City(new_york, blue, 0 cubes)', 'City(lima, yellow, 0 cubes)', 'City(atlanta, blue, 0 cubes)', 'City(kolkata, black, 0 cubes)', 'City(chicago, blue, 2 cubes)', 'City(mumbai, black, 0 cubes)', 'City(paris, blue, 0 cubes)', 'City(essen, blue, 0 cubes)', 'City(istanbul, black, 1 cubes)', 'City(tehran, black, 2 cubes)', 'City(karachi, black, 0 cubes)', 'City(ho_chi_minh_city, red, 0 cubes)', 'City(sydney, red, 1 cubes)', 'City(london, blue, 0 cubes)', 'City(sao_paolo, yellow, 0 cubes)', 'City(algiers, black, 0 cubes)', 'City(hong_kong, red, 0 cubes)', 'City(montreal, blue, 1 cubes)', 'City(washington, blue, 0 cubes)', 'City(santiago, yellow, 0 cubes)', 'City(mexico_city, yellow, 0 cubes)', 'City(bogota, yellow, 2 cubes)', 'City(miami, yellow, 0 cubes)', 'City(san_francisco, blue, 0 cubes)', 'City(los_angeles, yellow, 0 cubes)', 'City(st_petersburg, blue, 0 cubes)', 'City(baghdad, black, 0 cubes)', 'City(cairo, black, 0 cubes)', 'City(moscow, black, 0 cubes)', 'City(riyadh, black, 0 cubes)', 'City(manila, red, 0 cubes)', 'City(lagos, yellow, 0 cubes)', 'City(buenos_aires, yellow, 0 cubes)', 'City(taipei, red, 0 cubes)', 'City(shanghai, red, 0 cubes)', 'City(tokyo, red, 0 cubes)', 'City(khartoum, yellow, 0 cubes)']\n",
      "loop\n",
      "City(kinshasa, yellow, 3 cubes)\n",
      "neighbors\n",
      "['City(khartoum, yellow, 0 cubes)', 'City(johannesburg, yellow, 0 cubes)', 'City(lagos, yellow, 0 cubes)']\n",
      "neighbors 2\n",
      "[]\n",
      "unvisited_queue\n",
      "[<city.City object at 0x7f9e9ba67f10>, <city.City object at 0x7f9e9ba67cd0>, <city.City object at 0x7f9e9ba67ad0>, <city.City object at 0x7f9e9ba67350>]\n",
      "visited_list\n",
      "['City(chennai, black, 0 cubes)', 'City(milan, blue, 0 cubes)', 'City(delhi, black, 0 cubes)', 'City(jakarta, red, 0 cubes)', 'City(madrid, blue, 3 cubes)', 'City(bangkok, red, 0 cubes)', 'City(new_york, blue, 0 cubes)', 'City(lima, yellow, 0 cubes)', 'City(atlanta, blue, 0 cubes)', 'City(kolkata, black, 0 cubes)', 'City(chicago, blue, 2 cubes)', 'City(mumbai, black, 0 cubes)', 'City(paris, blue, 0 cubes)', 'City(essen, blue, 0 cubes)', 'City(istanbul, black, 1 cubes)', 'City(tehran, black, 2 cubes)', 'City(karachi, black, 0 cubes)', 'City(ho_chi_minh_city, red, 0 cubes)', 'City(sydney, red, 1 cubes)', 'City(london, blue, 0 cubes)', 'City(sao_paolo, yellow, 0 cubes)', 'City(algiers, black, 0 cubes)', 'City(hong_kong, red, 0 cubes)', 'City(montreal, blue, 1 cubes)', 'City(washington, blue, 0 cubes)', 'City(santiago, yellow, 0 cubes)', 'City(mexico_city, yellow, 0 cubes)', 'City(bogota, yellow, 2 cubes)', 'City(miami, yellow, 0 cubes)', 'City(san_francisco, blue, 0 cubes)', 'City(los_angeles, yellow, 0 cubes)', 'City(st_petersburg, blue, 0 cubes)', 'City(baghdad, black, 0 cubes)', 'City(cairo, black, 0 cubes)', 'City(moscow, black, 0 cubes)', 'City(riyadh, black, 0 cubes)', 'City(manila, red, 0 cubes)', 'City(lagos, yellow, 0 cubes)', 'City(buenos_aires, yellow, 0 cubes)', 'City(taipei, red, 0 cubes)', 'City(shanghai, red, 0 cubes)', 'City(tokyo, red, 0 cubes)', 'City(khartoum, yellow, 0 cubes)', 'City(kinshasa, yellow, 3 cubes)']\n",
      "loop\n",
      "City(osaka, red, 3 cubes)\n",
      "neighbors\n",
      "['City(taipei, red, 0 cubes)', 'City(tokyo, red, 0 cubes)']\n",
      "neighbors 2\n",
      "[]\n",
      "unvisited_queue\n",
      "[<city.City object at 0x7f9e9ba67cd0>, <city.City object at 0x7f9e9ba67ad0>, <city.City object at 0x7f9e9ba67350>]\n",
      "visited_list\n",
      "['City(chennai, black, 0 cubes)', 'City(milan, blue, 0 cubes)', 'City(delhi, black, 0 cubes)', 'City(jakarta, red, 0 cubes)', 'City(madrid, blue, 3 cubes)', 'City(bangkok, red, 0 cubes)', 'City(new_york, blue, 0 cubes)', 'City(lima, yellow, 0 cubes)', 'City(atlanta, blue, 0 cubes)', 'City(kolkata, black, 0 cubes)', 'City(chicago, blue, 2 cubes)', 'City(mumbai, black, 0 cubes)', 'City(paris, blue, 0 cubes)', 'City(essen, blue, 0 cubes)', 'City(istanbul, black, 1 cubes)', 'City(tehran, black, 2 cubes)', 'City(karachi, black, 0 cubes)', 'City(ho_chi_minh_city, red, 0 cubes)', 'City(sydney, red, 1 cubes)', 'City(london, blue, 0 cubes)', 'City(sao_paolo, yellow, 0 cubes)', 'City(algiers, black, 0 cubes)', 'City(hong_kong, red, 0 cubes)', 'City(montreal, blue, 1 cubes)', 'City(washington, blue, 0 cubes)', 'City(santiago, yellow, 0 cubes)', 'City(mexico_city, yellow, 0 cubes)', 'City(bogota, yellow, 2 cubes)', 'City(miami, yellow, 0 cubes)', 'City(san_francisco, blue, 0 cubes)', 'City(los_angeles, yellow, 0 cubes)', 'City(st_petersburg, blue, 0 cubes)', 'City(baghdad, black, 0 cubes)', 'City(cairo, black, 0 cubes)', 'City(moscow, black, 0 cubes)', 'City(riyadh, black, 0 cubes)', 'City(manila, red, 0 cubes)', 'City(lagos, yellow, 0 cubes)', 'City(buenos_aires, yellow, 0 cubes)', 'City(taipei, red, 0 cubes)', 'City(shanghai, red, 0 cubes)', 'City(tokyo, red, 0 cubes)', 'City(khartoum, yellow, 0 cubes)', 'City(kinshasa, yellow, 3 cubes)', 'City(osaka, red, 3 cubes)']\n",
      "loop\n",
      "City(seoul, red, 0 cubes)\n",
      "neighbors\n",
      "['City(tokyo, red, 0 cubes)', 'City(shanghai, red, 0 cubes)', 'City(beijing, red, 0 cubes)']\n",
      "neighbors 2\n",
      "[]\n",
      "unvisited_queue\n",
      "[<city.City object at 0x7f9e9ba67ad0>, <city.City object at 0x7f9e9ba67350>]\n",
      "visited_list\n",
      "['City(chennai, black, 0 cubes)', 'City(milan, blue, 0 cubes)', 'City(delhi, black, 0 cubes)', 'City(jakarta, red, 0 cubes)', 'City(madrid, blue, 3 cubes)', 'City(bangkok, red, 0 cubes)', 'City(new_york, blue, 0 cubes)', 'City(lima, yellow, 0 cubes)', 'City(atlanta, blue, 0 cubes)', 'City(kolkata, black, 0 cubes)', 'City(chicago, blue, 2 cubes)', 'City(mumbai, black, 0 cubes)', 'City(paris, blue, 0 cubes)', 'City(essen, blue, 0 cubes)', 'City(istanbul, black, 1 cubes)', 'City(tehran, black, 2 cubes)', 'City(karachi, black, 0 cubes)', 'City(ho_chi_minh_city, red, 0 cubes)', 'City(sydney, red, 1 cubes)', 'City(london, blue, 0 cubes)', 'City(sao_paolo, yellow, 0 cubes)', 'City(algiers, black, 0 cubes)', 'City(hong_kong, red, 0 cubes)', 'City(montreal, blue, 1 cubes)', 'City(washington, blue, 0 cubes)', 'City(santiago, yellow, 0 cubes)', 'City(mexico_city, yellow, 0 cubes)', 'City(bogota, yellow, 2 cubes)', 'City(miami, yellow, 0 cubes)', 'City(san_francisco, blue, 0 cubes)', 'City(los_angeles, yellow, 0 cubes)', 'City(st_petersburg, blue, 0 cubes)', 'City(baghdad, black, 0 cubes)', 'City(cairo, black, 0 cubes)', 'City(moscow, black, 0 cubes)', 'City(riyadh, black, 0 cubes)', 'City(manila, red, 0 cubes)', 'City(lagos, yellow, 0 cubes)', 'City(buenos_aires, yellow, 0 cubes)', 'City(taipei, red, 0 cubes)', 'City(shanghai, red, 0 cubes)', 'City(tokyo, red, 0 cubes)', 'City(khartoum, yellow, 0 cubes)', 'City(kinshasa, yellow, 3 cubes)', 'City(osaka, red, 3 cubes)', 'City(seoul, red, 0 cubes)']\n",
      "loop\n",
      "City(beijing, red, 0 cubes)\n",
      "neighbors\n",
      "['City(seoul, red, 0 cubes)', 'City(shanghai, red, 0 cubes)']\n",
      "neighbors 2\n",
      "[]\n",
      "unvisited_queue\n",
      "[<city.City object at 0x7f9e9ba67350>]\n",
      "visited_list\n",
      "['City(chennai, black, 0 cubes)', 'City(milan, blue, 0 cubes)', 'City(delhi, black, 0 cubes)', 'City(jakarta, red, 0 cubes)', 'City(madrid, blue, 3 cubes)', 'City(bangkok, red, 0 cubes)', 'City(new_york, blue, 0 cubes)', 'City(lima, yellow, 0 cubes)', 'City(atlanta, blue, 0 cubes)', 'City(kolkata, black, 0 cubes)', 'City(chicago, blue, 2 cubes)', 'City(mumbai, black, 0 cubes)', 'City(paris, blue, 0 cubes)', 'City(essen, blue, 0 cubes)', 'City(istanbul, black, 1 cubes)', 'City(tehran, black, 2 cubes)', 'City(karachi, black, 0 cubes)', 'City(ho_chi_minh_city, red, 0 cubes)', 'City(sydney, red, 1 cubes)', 'City(london, blue, 0 cubes)', 'City(sao_paolo, yellow, 0 cubes)', 'City(algiers, black, 0 cubes)', 'City(hong_kong, red, 0 cubes)', 'City(montreal, blue, 1 cubes)', 'City(washington, blue, 0 cubes)', 'City(santiago, yellow, 0 cubes)', 'City(mexico_city, yellow, 0 cubes)', 'City(bogota, yellow, 2 cubes)', 'City(miami, yellow, 0 cubes)', 'City(san_francisco, blue, 0 cubes)', 'City(los_angeles, yellow, 0 cubes)', 'City(st_petersburg, blue, 0 cubes)', 'City(baghdad, black, 0 cubes)', 'City(cairo, black, 0 cubes)', 'City(moscow, black, 0 cubes)', 'City(riyadh, black, 0 cubes)', 'City(manila, red, 0 cubes)', 'City(lagos, yellow, 0 cubes)', 'City(buenos_aires, yellow, 0 cubes)', 'City(taipei, red, 0 cubes)', 'City(shanghai, red, 0 cubes)', 'City(tokyo, red, 0 cubes)', 'City(khartoum, yellow, 0 cubes)', 'City(kinshasa, yellow, 3 cubes)', 'City(osaka, red, 3 cubes)', 'City(seoul, red, 0 cubes)', 'City(beijing, red, 0 cubes)']\n",
      "loop\n",
      "City(johannesburg, yellow, 0 cubes)\n",
      "neighbors\n",
      "['City(khartoum, yellow, 0 cubes)', 'City(kinshasa, yellow, 3 cubes)']\n",
      "neighbors 2\n",
      "[]\n",
      "unvisited_queue\n",
      "[]\n",
      "visited_list\n",
      "['City(chennai, black, 0 cubes)', 'City(milan, blue, 0 cubes)', 'City(delhi, black, 0 cubes)', 'City(jakarta, red, 0 cubes)', 'City(madrid, blue, 3 cubes)', 'City(bangkok, red, 0 cubes)', 'City(new_york, blue, 0 cubes)', 'City(lima, yellow, 0 cubes)', 'City(atlanta, blue, 0 cubes)', 'City(kolkata, black, 0 cubes)', 'City(chicago, blue, 2 cubes)', 'City(mumbai, black, 0 cubes)', 'City(paris, blue, 0 cubes)', 'City(essen, blue, 0 cubes)', 'City(istanbul, black, 1 cubes)', 'City(tehran, black, 2 cubes)', 'City(karachi, black, 0 cubes)', 'City(ho_chi_minh_city, red, 0 cubes)', 'City(sydney, red, 1 cubes)', 'City(london, blue, 0 cubes)', 'City(sao_paolo, yellow, 0 cubes)', 'City(algiers, black, 0 cubes)', 'City(hong_kong, red, 0 cubes)', 'City(montreal, blue, 1 cubes)', 'City(washington, blue, 0 cubes)', 'City(santiago, yellow, 0 cubes)', 'City(mexico_city, yellow, 0 cubes)', 'City(bogota, yellow, 2 cubes)', 'City(miami, yellow, 0 cubes)', 'City(san_francisco, blue, 0 cubes)', 'City(los_angeles, yellow, 0 cubes)', 'City(st_petersburg, blue, 0 cubes)', 'City(baghdad, black, 0 cubes)', 'City(cairo, black, 0 cubes)', 'City(moscow, black, 0 cubes)', 'City(riyadh, black, 0 cubes)', 'City(manila, red, 0 cubes)', 'City(lagos, yellow, 0 cubes)', 'City(buenos_aires, yellow, 0 cubes)', 'City(taipei, red, 0 cubes)', 'City(shanghai, red, 0 cubes)', 'City(tokyo, red, 0 cubes)', 'City(khartoum, yellow, 0 cubes)', 'City(kinshasa, yellow, 3 cubes)', 'City(osaka, red, 3 cubes)', 'City(seoul, red, 0 cubes)', 'City(beijing, red, 0 cubes)', 'City(johannesburg, yellow, 0 cubes)']\n"
     ]
    }
   ],
   "source": [
    "city_dist = my_game.shortest_paths(start_city)"
   ]
  },
  {
   "cell_type": "code",
   "execution_count": 28,
   "metadata": {
    "ExecuteTime": {
     "end_time": "2020-07-31T22:00:02.002454Z",
     "start_time": "2020-07-31T22:00:01.991742Z"
    },
    "scrolled": true
   },
   "outputs": [
    {
     "data": {
      "text/plain": [
       "{'san_francisco': 2,\n",
       " 'chicago': 1,\n",
       " 'montreal': 2,\n",
       " 'new_york': 1,\n",
       " 'washington': 2,\n",
       " 'atlanta': 1,\n",
       " 'london': 2,\n",
       " 'madrid': 1,\n",
       " 'paris': 2,\n",
       " 'essen': 2,\n",
       " 'milan': 1,\n",
       " 'st_petersburg': 3,\n",
       " 'los_angeles': 2,\n",
       " 'mexico_city': 2,\n",
       " 'miami': 2,\n",
       " 'bogota': 2,\n",
       " 'lima': 1,\n",
       " 'santiago': 2,\n",
       " 'sao_paolo': 2,\n",
       " 'buenos_aires': 3,\n",
       " 'lagos': 3,\n",
       " 'kinshasa': 4,\n",
       " 'khartoum': 4,\n",
       " 'johannesburg': 5,\n",
       " 'algiers': 2,\n",
       " 'istanbul': 2,\n",
       " 'cairo': 3,\n",
       " 'moscow': 3,\n",
       " 'baghdad': 3,\n",
       " 'riyadh': 3,\n",
       " 'tehran': 2,\n",
       " 'karachi': 2,\n",
       " 'mumbai': 1,\n",
       " 'delhi': 1,\n",
       " 'chennai': 0,\n",
       " 'kolkata': 1,\n",
       " 'bangkok': 1,\n",
       " 'jakarta': 1,\n",
       " 'beijing': 4,\n",
       " 'shanghai': 3,\n",
       " 'hong_kong': 2,\n",
       " 'ho_chi_minh_city': 2,\n",
       " 'seoul': 4,\n",
       " 'taipei': 3,\n",
       " 'manila': 3,\n",
       " 'sydney': 2,\n",
       " 'tokyo': 3,\n",
       " 'osaka': 4}"
      ]
     },
     "execution_count": 28,
     "metadata": {},
     "output_type": "execute_result"
    }
   ],
   "source": [
    "city_dist"
   ]
  },
  {
   "cell_type": "code",
   "execution_count": 29,
   "metadata": {
    "ExecuteTime": {
     "end_time": "2020-07-31T22:00:16.411369Z",
     "start_time": "2020-07-31T22:00:16.404542Z"
    }
   },
   "outputs": [
    {
     "data": {
      "text/plain": [
       "5"
      ]
     },
     "execution_count": 29,
     "metadata": {},
     "output_type": "execute_result"
    }
   ],
   "source": [
    "max([*city_dist.values()])"
   ]
  },
  {
   "cell_type": "code",
   "execution_count": null,
   "metadata": {},
   "outputs": [],
   "source": []
  }
 ],
 "metadata": {
  "kernelspec": {
   "display_name": "Python 3",
   "language": "python",
   "name": "python3"
  },
  "language_info": {
   "codemirror_mode": {
    "name": "ipython",
    "version": 3
   },
   "file_extension": ".py",
   "mimetype": "text/x-python",
   "name": "python",
   "nbconvert_exporter": "python",
   "pygments_lexer": "ipython3",
   "version": "3.7.7"
  },
  "toc": {
   "base_numbering": 1,
   "nav_menu": {},
   "number_sections": true,
   "sideBar": true,
   "skip_h1_title": false,
   "title_cell": "Table of Contents",
   "title_sidebar": "Contents",
   "toc_cell": false,
   "toc_position": {},
   "toc_section_display": true,
   "toc_window_display": false
  },
  "varInspector": {
   "cols": {
    "lenName": 16,
    "lenType": 16,
    "lenVar": 40
   },
   "kernels_config": {
    "python": {
     "delete_cmd_postfix": "",
     "delete_cmd_prefix": "del ",
     "library": "var_list.py",
     "varRefreshCmd": "print(var_dic_list())"
    },
    "r": {
     "delete_cmd_postfix": ") ",
     "delete_cmd_prefix": "rm(",
     "library": "var_list.r",
     "varRefreshCmd": "cat(var_dic_list()) "
    }
   },
   "types_to_exclude": [
    "module",
    "function",
    "builtin_function_or_method",
    "instance",
    "_Feature"
   ],
   "window_display": false
  }
 },
 "nbformat": 4,
 "nbformat_minor": 4
}
